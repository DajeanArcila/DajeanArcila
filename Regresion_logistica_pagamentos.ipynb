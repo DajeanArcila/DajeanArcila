{
  "nbformat": 4,
  "nbformat_minor": 0,
  "metadata": {
    "colab": {
      "provenance": [],
      "authorship_tag": "ABX9TyPEuLR6Zovj7wTl/9q3XOIT",
      "include_colab_link": true
    },
    "kernelspec": {
      "name": "python3",
      "display_name": "Python 3"
    },
    "language_info": {
      "name": "python"
    }
  },
  "cells": [
    {
      "cell_type": "markdown",
      "metadata": {
        "id": "view-in-github",
        "colab_type": "text"
      },
      "source": [
        "<a href=\"https://colab.research.google.com/github/DajeanArcila/DajeanArcila/blob/main/Regresion_logistica_pagamentos.ipynb\" target=\"_parent\"><img src=\"https://colab.research.google.com/assets/colab-badge.svg\" alt=\"Open In Colab\"/></a>"
      ]
    },
    {
      "cell_type": "markdown",
      "source": [
        "#REGRESION LOGISTITA\n",
        "\n",
        "MODELO DE REGRESION LINEAL PARA TRABAJAR CON VARIABLES CATEGORICAS, EN ESTE EJEMPLO HIZIMOS UN DATA SET FICTICION DE PAGOS DE BANCOS Y APLICAMOS EL MODELO Y AL FINAL LO HACEMOS UNA FUNCION PARA LLAMARLA CON DATOS NUEVOS SIEMPRE Y CUANDO TENGAN LA MISMA ESTRUCTURA DE LOS DATOS DE ENTRENAMIENTO\n"
      ],
      "metadata": {
        "id": "NhmD2HNPvXbB"
      }
    },
    {
      "cell_type": "code",
      "execution_count": 11,
      "metadata": {
        "id": "Jl7J6HxaSdfR"
      },
      "outputs": [],
      "source": [
        "#DATOS FICTICIOS\n",
        "import pandas as pd\n",
        "import numpy as np\n",
        "\n",
        "##PARA TRABAJAR EN EL MODELO\n",
        "import matplotlib.pyplot as plt\n",
        "import seaborn as sns\n",
        "from sklearn.model_selection import train_test_split\n",
        "from sklearn.linear_model import LogisticRegression\n",
        "from sklearn.metrics import classification_report, confusion_matrix, accuracy_score\n",
        "\n",
        "\n",
        "# Crear un dataset sintético\n",
        "np.random.seed(42)\n",
        "n_samples = 1000\n",
        "\n",
        "# Características (features)\n",
        "X = pd.DataFrame({\n",
        "    'Feature1': np.random.normal(0, 1, n_samples),\n",
        "    'Feature2': np.random.normal(2, 3, n_samples),\n",
        "    'Feature3': np.random.uniform(0, 1, n_samples)\n",
        "})"
      ]
    },
    {
      "cell_type": "code",
      "source": [
        "# Variable objetivo (target)\n",
        "# Supongamos una variable objetivo binaria\n",
        "y = np.random.choice([0, 1], size=n_samples)\n",
        "\n",
        "# Crear un DataFrame con X y y\n",
        "df = pd.concat([X, pd.Series(y, name='Target')], axis=1)\n",
        "\n",
        "# Ver las primeras filas del dataset generado\n",
        "print(df.head())\n",
        "\n",
        "# Guardar el dataset como CSV\n",
        "df.to_csv('ejemplo_dataset.csv', index=False)\n",
        "\n",
        "# Información del dataset\n",
        "print(df.info())"
      ],
      "metadata": {
        "colab": {
          "base_uri": "https://localhost:8080/"
        },
        "id": "3uEYjJSZYdkV",
        "outputId": "b5e90db5-7ead-44e4-b9cd-bcf87d3e930b"
      },
      "execution_count": 12,
      "outputs": [
        {
          "output_type": "stream",
          "name": "stdout",
          "text": [
            "   Feature1  Feature2  Feature3  Target\n",
            "0  0.496714  6.198066  0.407106       0\n",
            "1 -0.138264  4.773901  0.066010       0\n",
            "2  0.647689  2.178891  0.348821       1\n",
            "3  1.523030  0.059190  0.110998       1\n",
            "4 -0.234153  4.094670  0.808235       1\n",
            "<class 'pandas.core.frame.DataFrame'>\n",
            "RangeIndex: 1000 entries, 0 to 999\n",
            "Data columns (total 4 columns):\n",
            " #   Column    Non-Null Count  Dtype  \n",
            "---  ------    --------------  -----  \n",
            " 0   Feature1  1000 non-null   float64\n",
            " 1   Feature2  1000 non-null   float64\n",
            " 2   Feature3  1000 non-null   float64\n",
            " 3   Target    1000 non-null   int64  \n",
            "dtypes: float64(3), int64(1)\n",
            "memory usage: 31.4 KB\n",
            "None\n"
          ]
        }
      ]
    },
    {
      "cell_type": "code",
      "source": [
        "# Cargar el dataset (puedes reemplazar la ruta con la ubicación de tu dataset)\n",
        "df = pd.read_csv('/content/ejemplo_dataset.csv')"
      ],
      "metadata": {
        "id": "trTdr2ndYpjG"
      },
      "execution_count": 13,
      "outputs": []
    },
    {
      "cell_type": "code",
      "source": [
        "# Mostrar las primeras filas del dataset\n",
        "print(df.head())"
      ],
      "metadata": {
        "colab": {
          "base_uri": "https://localhost:8080/"
        },
        "id": "-WjWFcIdYy7g",
        "outputId": "51586e03-9e48-4b09-c051-07c8db89dd09"
      },
      "execution_count": 16,
      "outputs": [
        {
          "output_type": "stream",
          "name": "stdout",
          "text": [
            "   Feature1  Feature2  Feature3  Target\n",
            "0  0.496714  6.198066  0.407106       0\n",
            "1 -0.138264  4.773901  0.066010       0\n",
            "2  0.647689  2.178891  0.348821       1\n",
            "3  1.523030  0.059190  0.110998       1\n",
            "4 -0.234153  4.094670  0.808235       1\n"
          ]
        }
      ]
    },
    {
      "cell_type": "code",
      "source": [
        "# Descripción básica del dataset\n",
        "print(df.info())\n",
        "print(df.describe())"
      ],
      "metadata": {
        "colab": {
          "base_uri": "https://localhost:8080/"
        },
        "id": "EoO7Q637ZOmg",
        "outputId": "78fe73b0-883c-4849-8eff-932b474d6788"
      },
      "execution_count": 17,
      "outputs": [
        {
          "output_type": "stream",
          "name": "stdout",
          "text": [
            "<class 'pandas.core.frame.DataFrame'>\n",
            "RangeIndex: 1000 entries, 0 to 999\n",
            "Data columns (total 4 columns):\n",
            " #   Column    Non-Null Count  Dtype  \n",
            "---  ------    --------------  -----  \n",
            " 0   Feature1  1000 non-null   float64\n",
            " 1   Feature2  1000 non-null   float64\n",
            " 2   Feature3  1000 non-null   float64\n",
            " 3   Target    1000 non-null   int64  \n",
            "dtypes: float64(3), int64(1)\n",
            "memory usage: 31.4 KB\n",
            "None\n",
            "          Feature1     Feature2     Feature3       Target\n",
            "count  1000.000000  1000.000000  1000.000000  1000.000000\n",
            "mean      0.019332     2.212509     0.496848     0.503000\n",
            "std       0.979216     2.992363     0.290318     0.500241\n",
            "min      -3.241267    -6.821166     0.000012     0.000000\n",
            "25%      -0.647590     0.181275     0.247505     0.000000\n",
            "50%       0.025301     2.189231     0.500502     1.000000\n",
            "75%       0.647944     4.186647     0.748227     1.000000\n",
            "max       3.852731    11.579323     0.998893     1.000000\n"
          ]
        }
      ]
    },
    {
      "cell_type": "code",
      "source": [
        "# Separar las características (X) y la variable objetivo (y)\n",
        "X = df.drop('Target', axis=1)  # características\n",
        "y = df['Target']  # variable objetivo"
      ],
      "metadata": {
        "id": "_3WIr9xiZiYQ"
      },
      "execution_count": 19,
      "outputs": []
    },
    {
      "cell_type": "code",
      "source": [
        "# Dividir el dataset en entrenamiento y prueba (70% entrenamiento, 30% prueba)\n",
        "X_train, X_test, y_train, y_test = train_test_split(X, y, test_size=0.3, random_state=42)\n",
        "\n",
        "# Inicializar el modelo de Regresión Logística\n",
        "model = LogisticRegression()"
      ],
      "metadata": {
        "id": "VT8XnqchZk9Q"
      },
      "execution_count": 20,
      "outputs": []
    },
    {
      "cell_type": "code",
      "source": [
        "# Entrenar el modelo con los datos de entrenamiento\n",
        "model.fit(X_train, y_train)\n",
        "\n",
        "# Hacer predicciones en el conjunto de prueba\n",
        "y_pred = model.predict(X_test)"
      ],
      "metadata": {
        "id": "fx1SMxpxZm1C"
      },
      "execution_count": 21,
      "outputs": []
    },
    {
      "cell_type": "code",
      "source": [
        "# Evaluar el rendimiento del modelo\n",
        "print(\"\\nMatriz de Confusión:\")\n",
        "print(confusion_matrix(y_test, y_pred))\n",
        "\n",
        "print(\"\\nReporte de Clasificación:\")\n",
        "print(classification_report(y_test, y_pred))"
      ],
      "metadata": {
        "colab": {
          "base_uri": "https://localhost:8080/"
        },
        "id": "TiOO6ptBZoxY",
        "outputId": "2530bb95-3e20-438a-968d-3100d788bbf7"
      },
      "execution_count": 22,
      "outputs": [
        {
          "output_type": "stream",
          "name": "stdout",
          "text": [
            "\n",
            "Matriz de Confusión:\n",
            "[[80 65]\n",
            " [88 67]]\n",
            "\n",
            "Reporte de Clasificación:\n",
            "              precision    recall  f1-score   support\n",
            "\n",
            "           0       0.48      0.55      0.51       145\n",
            "           1       0.51      0.43      0.47       155\n",
            "\n",
            "    accuracy                           0.49       300\n",
            "   macro avg       0.49      0.49      0.49       300\n",
            "weighted avg       0.49      0.49      0.49       300\n",
            "\n"
          ]
        }
      ]
    },
    {
      "cell_type": "code",
      "source": [
        "print(\"\\nPrecisión del modelo:\")\n",
        "print(accuracy_score(y_test, y_pred))\n",
        "\n",
        "# Opcional: Visualización de la matriz de correlación entre características\n",
        "plt.figure(figsize=(8, 6))\n",
        "sns.heatmap(X.corr(), annot=True, cmap='coolwarm', fmt=\".2f\", linewidths=0.5)\n",
        "plt.title('Matriz de Correlación entre Características')\n",
        "plt.show()"
      ],
      "metadata": {
        "colab": {
          "base_uri": "https://localhost:8080/",
          "height": 597
        },
        "id": "lHEMQsryZrG_",
        "outputId": "5eac849b-f27c-4edd-f9d0-14dac9314617"
      },
      "execution_count": 23,
      "outputs": [
        {
          "output_type": "stream",
          "name": "stdout",
          "text": [
            "\n",
            "Precisión del modelo:\n",
            "0.49\n"
          ]
        },
        {
          "output_type": "display_data",
          "data": {
            "text/plain": [
              "<Figure size 800x600 with 2 Axes>"
            ],
            "image/png": "[encoded data removed]"
          },
          "metadata": {}
        }
      ]
    },
    {
      "cell_type": "code",
      "source": [
        "def logistic_regression_pipeline(train_input_path, test_input_path, output_path):\n",
        "    # Cargar el dataset de entrenamiento\n",
        "    df_train = pd.read_csv(train_input_path)\n",
        "\n",
        "    # Mostrar las primeras filas del dataset para verificar la carga correcta\n",
        "    #print(df_train.head())\n",
        "\n",
        "    # Descripción básica del dataset\n",
        "    #print(df_train.info())\n",
        "    #print(df_train.describe())\n",
        "    #PODEMOS DESCOMENTAR ESTOS DATOS SI SON NECESARIOS\n",
        "\n",
        "    # Separar las características (X) y la variable objetivo (y) del dataset de entrenamiento\n",
        "    X_train = df_train.drop('Target', axis=1)  # características\n",
        "    y_train = df_train['Target']  # variable objetivo\n",
        "\n",
        "    # Cargar el dataset de nuevos datos (sin la variable objetivo)\n",
        "    df_test = pd.read_csv(test_input_path)\n",
        "\n",
        "    # Mostrar las primeras filas del dataset de nuevos datos\n",
        "    print(df_test.head())\n",
        "\n",
        "    # Inicializar el modelo de Regresión Logística\n",
        "    model = LogisticRegression()\n",
        "\n",
        "    # Entrenar el modelo con los datos de entrenamiento\n",
        "    model.fit(X_train, y_train)\n",
        "\n",
        "    # Hacer predicciones en el conjunto de nuevos datos\n",
        "    predictions = model.predict(df_test)\n",
        "\n",
        "    # Guardar las predicciones en un archivo CSV\n",
        "    results = pd.DataFrame({'Prediction': predictions})\n",
        "    results.to_csv(output_path, index=False)\n",
        "\n",
        "# Llamar a la función con las rutas de los archivos de entrada y salida\n",
        "train_input_path = 'LOS DATOS PRINCIPALES CON QUE SE HIZO EL MODELO.csv'  # Asegúr de que el archivo de entrenamiento esté en la ubicación correcta\n",
        "test_input_path = 'NUEVOS_DATOS.csv'  # Asegúrate de que el archivo de nuevos datos esté en la ubicación correcta\n",
        "output_path = 'Resultados_PRedicciones.csv'  # Nombre del archivo de salida\n",
        "\n",
        "logistic_regression_pipeline(train_input_path, test_input_path, output_path)"
      ],
      "metadata": {
        "id": "sodssHS3tow_"
      },
      "execution_count": null,
      "outputs": []
    }
  ]
}