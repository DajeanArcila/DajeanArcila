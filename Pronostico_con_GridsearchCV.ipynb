{
  "nbformat": 4,
  "nbformat_minor": 0,
  "metadata": {
    "colab": {
      "provenance": [],
      "authorship_tag": "ABX9TyOX2u6oDfgTV5tNqe0fIbFQ",
      "include_colab_link": true
    },
    "kernelspec": {
      "name": "python3",
      "display_name": "Python 3"
    },
    "language_info": {
      "name": "python"
    }
  },
  "cells": [
    {
      "cell_type": "markdown",
      "metadata": {
        "id": "view-in-github",
        "colab_type": "text"
      },
      "source": [
        "<a href=\"https://colab.research.google.com/github/DajeanArcila/DajeanArcila/blob/main/Pronostico_con_GridsearchCV.ipynb\" target=\"_parent\"><img src=\"https://colab.research.google.com/assets/colab-badge.svg\" alt=\"Open In Colab\"/></a>"
      ]
    },
    {
      "cell_type": "code",
      "execution_count": 2,
      "metadata": {
        "id": "hCqhGfAFHSFs"
      },
      "outputs": [],
      "source": [
        "import pandas as pd\n",
        "import numpy as np\n",
        "\n",
        "\n",
        "from sklearn.model_selection import train_test_split\n",
        "from sklearn.ensemble import GradientBoostingRegressor\n",
        "from sklearn.model_selection import GridSearchCV\n",
        "from sklearn import metrics\n"
      ]
    },
    {
      "cell_type": "code",
      "source": [
        "\n",
        "# Configurar la semilla para reproducibilidad\n",
        "np.random.seed(42)\n",
        "\n",
        "# Generar datos ficticios\n",
        "num_samples = 500\n",
        "data = {\n",
        "    'age': np.random.randint(20, 80, size=num_samples),\n",
        "    'gender': np.random.choice(['male', 'female'], size=num_samples),\n",
        "    'bmi': np.round(np.random.uniform(18.5, 40, size=num_samples), 1),\n",
        "    'smoker': np.random.choice(['yes', 'no'], size=num_samples),\n",
        "    'exercise_level': np.random.choice(['low', 'medium', 'high'], size=num_samples),\n",
        "    'cholesterol': np.round(np.random.uniform(150, 300, size=num_samples), 1)\n",
        "}\n",
        "\n"
      ],
      "metadata": {
        "id": "0Z5N2YVEizal"
      },
      "execution_count": 3,
      "outputs": []
    },
    {
      "cell_type": "code",
      "source": [
        "# Crear el DataFrame\n",
        "df_health = pd.DataFrame(data)\n",
        "\n",
        "# Mostrar las primeras filas del DataFrame\n",
        "print(df_health.head())\n",
        "\n"
      ],
      "metadata": {
        "colab": {
          "base_uri": "https://localhost:8080/"
        },
        "id": "hvcrcrygjH88",
        "outputId": "eb05ce71-cf1a-4ed6-c650-9307a549a999"
      },
      "execution_count": 4,
      "outputs": [
        {
          "output_type": "stream",
          "name": "stdout",
          "text": [
            "   age  gender   bmi smoker exercise_level  cholesterol\n",
            "0   58  female  36.5    yes         medium        203.2\n",
            "1   71    male  28.6    yes           high        160.4\n",
            "2   48    male  27.4     no            low        227.9\n",
            "3   34  female  24.4    yes            low        160.1\n",
            "4   62    male  19.7     no            low        270.1\n"
          ]
        }
      ]
    },
    {
      "cell_type": "code",
      "source": [
        "# Guardar el DataFrame en un archivo Excel\n",
        "df_health.to_excel('health_data.xlsx', index=False)"
      ],
      "metadata": {
        "id": "pha0KyAAjJb4"
      },
      "execution_count": 5,
      "outputs": []
    },
    {
      "cell_type": "code",
      "source": [
        "# Cargar los datos\n",
        "df_health = pd.read_excel('health_data.xlsx')"
      ],
      "metadata": {
        "id": "PIBk27MCjTg2"
      },
      "execution_count": 6,
      "outputs": []
    },
    {
      "cell_type": "code",
      "source": [
        "# Mostrar resumen estadístico\n",
        "print(df_health.describe())"
      ],
      "metadata": {
        "colab": {
          "base_uri": "https://localhost:8080/"
        },
        "id": "WJL321iWjUi9",
        "outputId": "74d9b0e8-3403-4c06-cdcb-a7699e9f4935"
      },
      "execution_count": 7,
      "outputs": [
        {
          "output_type": "stream",
          "name": "stdout",
          "text": [
            "              age         bmi  cholesterol\n",
            "count  500.000000  500.000000    500.00000\n",
            "mean    50.396000   28.854600    224.99040\n",
            "std     17.335982    6.147199     43.37577\n",
            "min     20.000000   18.600000    150.50000\n",
            "25%     36.750000   23.375000    187.00000\n",
            "50%     51.000000   28.650000    226.60000\n",
            "75%     65.000000   34.050000    263.42500\n",
            "max     79.000000   40.000000    299.80000\n"
          ]
        }
      ]
    },
    {
      "cell_type": "code",
      "source": [
        "# One-hot encode the data using pandas get_dummies\n",
        "df_health = pd.get_dummies(df_health)\n",
        "print(df_health.head())"
      ],
      "metadata": {
        "colab": {
          "base_uri": "https://localhost:8080/"
        },
        "id": "8cky0_ZJj_C9",
        "outputId": "4e7113b2-92e1-4dec-e8c1-35d68d1c7965"
      },
      "execution_count": 8,
      "outputs": [
        {
          "output_type": "stream",
          "name": "stdout",
          "text": [
            "   age   bmi  cholesterol  gender_female  gender_male  smoker_no  smoker_yes  \\\n",
            "0   58  36.5        203.2           True        False      False        True   \n",
            "1   71  28.6        160.4          False         True      False        True   \n",
            "2   48  27.4        227.9          False         True       True       False   \n",
            "3   34  24.4        160.1           True        False      False        True   \n",
            "4   62  19.7        270.1          False         True       True       False   \n",
            "\n",
            "   exercise_level_high  exercise_level_low  exercise_level_medium  \n",
            "0                False               False                   True  \n",
            "1                 True               False                  False  \n",
            "2                False                True                  False  \n",
            "3                False                True                  False  \n",
            "4                False                True                  False  \n"
          ]
        }
      ]
    },
    {
      "cell_type": "code",
      "source": [
        "# Labels are the values we want to predict\n",
        "labels = np.array(df_health['cholesterol'])\n",
        "# Remove the labels from the features\n",
        "# axis 1 refers to the columns\n",
        "features = df_health.drop('cholesterol', axis=1)\n",
        "# Saving feature names for later use\n",
        "feature_list = list(features.columns)\n",
        "# Convert to numpy array\n",
        "features = np.array(features)"
      ],
      "metadata": {
        "id": "91I0y-B0kL3u"
      },
      "execution_count": 9,
      "outputs": []
    },
    {
      "cell_type": "code",
      "source": [
        "# Using Skicit-learn to split data into training and testing sets\n",
        "train_features, test_features, train_labels, test_labels = train_test_split(features, labels, test_size=0.25, random_state=42)\n"
      ],
      "metadata": {
        "id": "bilZRF7EkOgj"
      },
      "execution_count": 10,
      "outputs": []
    },
    {
      "cell_type": "code",
      "source": [
        "# Entrenamiento del modelo GradientBoostingRegressor\n",
        "grb = GradientBoostingRegressor(n_estimators=100)\n",
        "grb.fit(train_features, train_labels)\n",
        "gbr_pred = grb.predict(test_features)\n"
      ],
      "metadata": {
        "id": "nZjVaHcKkQXs"
      },
      "execution_count": 11,
      "outputs": []
    },
    {
      "cell_type": "code",
      "source": [
        "# Evaluación del modelo\n",
        "r_sq = grb.score(test_features, test_labels)\n",
        "print('Coeficiente de Determinación (R²):', r_sq)\n",
        "print('MAE:', metrics.mean_absolute_error(test_labels, gbr_pred))\n",
        "print('MSE:', metrics.mean_squared_error(test_labels, gbr_pred))\n",
        "print('RMSE:', np.sqrt(metrics.mean_squared_error(test_labels, gbr_pred)))\n"
      ],
      "metadata": {
        "colab": {
          "base_uri": "https://localhost:8080/"
        },
        "id": "Swjjhyc_kcnN",
        "outputId": "8e5833ac-4807-476f-91e9-a45343a4a625"
      },
      "execution_count": 12,
      "outputs": [
        {
          "output_type": "stream",
          "name": "stdout",
          "text": [
            "Coeficiente de Determinación (R²): -0.06370855672178743\n",
            "MAE: 39.608878704027674\n",
            "MSE: 2113.4433868756323\n",
            "RMSE: 45.97220232788106\n"
          ]
        }
      ]
    },
    {
      "cell_type": "code",
      "source": [
        "# GridSearch para optimización de hiperparámetros\n",
        "parameters = {\n",
        "    'learning_rate': [0.03],\n",
        "    'subsample': [0.2],\n",
        "    'n_estimators': [100, 500, 1000, 1500],\n",
        "    'max_depth': [8]\n",
        "}\n",
        "grid_search = GridSearchCV(grb, parameters, scoring='r2', cv=2, n_jobs=-1)\n",
        "grid_search.fit(train_features, train_labels)"
      ],
      "metadata": {
        "colab": {
          "base_uri": "https://localhost:8080/",
          "height": 118
        },
        "id": "UJZCpmcVlCK2",
        "outputId": "ab210f13-c912-4550-8cbe-f265c0ffa15e"
      },
      "execution_count": 13,
      "outputs": [
        {
          "output_type": "execute_result",
          "data": {
            "text/plain": [
              "GridSearchCV(cv=2, estimator=GradientBoostingRegressor(), n_jobs=-1,\n",
              "             param_grid={'learning_rate': [0.03], 'max_depth': [8],\n",
              "                         'n_estimators': [100, 500, 1000, 1500],\n",
              "                         'subsample': [0.2]},\n",
              "             scoring='r2')"
            ],
            "text/html": [
              "<style>#sk-container-id-1 {color: black;background-color: white;}#sk-container-id-1 pre{padding: 0;}#sk-container-id-1 div.sk-toggleable {background-color: white;}#sk-container-id-1 label.sk-toggleable__label {cursor: pointer;display: block;width: 100%;margin-bottom: 0;padding: 0.3em;box-sizing: border-box;text-align: center;}#sk-container-id-1 label.sk-toggleable__label-arrow:before {content: \"▸\";float: left;margin-right: 0.25em;color: #696969;}#sk-container-id-1 label.sk-toggleable__label-arrow:hover:before {color: black;}#sk-container-id-1 div.sk-estimator:hover label.sk-toggleable__label-arrow:before {color: black;}#sk-container-id-1 div.sk-toggleable__content {max-height: 0;max-width: 0;overflow: hidden;text-align: left;background-color: #f0f8ff;}#sk-container-id-1 div.sk-toggleable__content pre {margin: 0.2em;color: black;border-radius: 0.25em;background-color: #f0f8ff;}#sk-container-id-1 input.sk-toggleable__control:checked~div.sk-toggleable__content {max-height: 200px;max-width: 100%;overflow: auto;}#sk-container-id-1 input.sk-toggleable__control:checked~label.sk-toggleable__label-arrow:before {content: \"▾\";}#sk-container-id-1 div.sk-estimator input.sk-toggleable__control:checked~label.sk-toggleable__label {background-color: #d4ebff;}#sk-container-id-1 div.sk-label input.sk-toggleable__control:checked~label.sk-toggleable__label {background-color: #d4ebff;}#sk-container-id-1 input.sk-hidden--visually {border: 0;clip: rect(1px 1px 1px 1px);clip: rect(1px, 1px, 1px, 1px);height: 1px;margin: -1px;overflow: hidden;padding: 0;position: absolute;width: 1px;}#sk-container-id-1 div.sk-estimator {font-family: monospace;background-color: #f0f8ff;border: 1px dotted black;border-radius: 0.25em;box-sizing: border-box;margin-bottom: 0.5em;}#sk-container-id-1 div.sk-estimator:hover {background-color: #d4ebff;}#sk-container-id-1 div.sk-parallel-item::after {content: \"\";width: 100%;border-bottom: 1px solid gray;flex-grow: 1;}#sk-container-id-1 div.sk-label:hover label.sk-toggleable__label {background-color: #d4ebff;}#sk-container-id-1 div.sk-serial::before {content: \"\";position: absolute;border-left: 1px solid gray;box-sizing: border-box;top: 0;bottom: 0;left: 50%;z-index: 0;}#sk-container-id-1 div.sk-serial {display: flex;flex-direction: column;align-items: center;background-color: white;padding-right: 0.2em;padding-left: 0.2em;position: relative;}#sk-container-id-1 div.sk-item {position: relative;z-index: 1;}#sk-container-id-1 div.sk-parallel {display: flex;align-items: stretch;justify-content: center;background-color: white;position: relative;}#sk-container-id-1 div.sk-item::before, #sk-container-id-1 div.sk-parallel-item::before {content: \"\";position: absolute;border-left: 1px solid gray;box-sizing: border-box;top: 0;bottom: 0;left: 50%;z-index: -1;}#sk-container-id-1 div.sk-parallel-item {display: flex;flex-direction: column;z-index: 1;position: relative;background-color: white;}#sk-container-id-1 div.sk-parallel-item:first-child::after {align-self: flex-end;width: 50%;}#sk-container-id-1 div.sk-parallel-item:last-child::after {align-self: flex-start;width: 50%;}#sk-container-id-1 div.sk-parallel-item:only-child::after {width: 0;}#sk-container-id-1 div.sk-dashed-wrapped {border: 1px dashed gray;margin: 0 0.4em 0.5em 0.4em;box-sizing: border-box;padding-bottom: 0.4em;background-color: white;}#sk-container-id-1 div.sk-label label {font-family: monospace;font-weight: bold;display: inline-block;line-height: 1.2em;}#sk-container-id-1 div.sk-label-container {text-align: center;}#sk-container-id-1 div.sk-container {/* jupyter's `normalize.less` sets `[hidden] { display: none; }` but bootstrap.min.css set `[hidden] { display: none !important; }` so we also need the `!important` here to be able to override the default hidden behavior on the sphinx rendered scikit-learn.org. See: https://github.com/scikit-learn/scikit-learn/issues/21755 */display: inline-block !important;position: relative;}#sk-container-id-1 div.sk-text-repr-fallback {display: none;}</style><div id=\"sk-container-id-1\" class=\"sk-top-container\"><div class=\"sk-text-repr-fallback\"><pre>GridSearchCV(cv=2, estimator=GradientBoostingRegressor(), n_jobs=-1,\n",
              "             param_grid={&#x27;learning_rate&#x27;: [0.03], &#x27;max_depth&#x27;: [8],\n",
              "                         &#x27;n_estimators&#x27;: [100, 500, 1000, 1500],\n",
              "                         &#x27;subsample&#x27;: [0.2]},\n",
              "             scoring=&#x27;r2&#x27;)</pre><b>In a Jupyter environment, please rerun this cell to show the HTML representation or trust the notebook. <br />On GitHub, the HTML representation is unable to render, please try loading this page with nbviewer.org.</b></div><div class=\"sk-container\" hidden><div class=\"sk-item sk-dashed-wrapped\"><div class=\"sk-label-container\"><div class=\"sk-label sk-toggleable\"><input class=\"sk-toggleable__control sk-hidden--visually\" id=\"sk-estimator-id-1\" type=\"checkbox\" ><label for=\"sk-estimator-id-1\" class=\"sk-toggleable__label sk-toggleable__label-arrow\">GridSearchCV</label><div class=\"sk-toggleable__content\"><pre>GridSearchCV(cv=2, estimator=GradientBoostingRegressor(), n_jobs=-1,\n",
              "             param_grid={&#x27;learning_rate&#x27;: [0.03], &#x27;max_depth&#x27;: [8],\n",
              "                         &#x27;n_estimators&#x27;: [100, 500, 1000, 1500],\n",
              "                         &#x27;subsample&#x27;: [0.2]},\n",
              "             scoring=&#x27;r2&#x27;)</pre></div></div></div><div class=\"sk-parallel\"><div class=\"sk-parallel-item\"><div class=\"sk-item\"><div class=\"sk-label-container\"><div class=\"sk-label sk-toggleable\"><input class=\"sk-toggleable__control sk-hidden--visually\" id=\"sk-estimator-id-2\" type=\"checkbox\" ><label for=\"sk-estimator-id-2\" class=\"sk-toggleable__label sk-toggleable__label-arrow\">estimator: GradientBoostingRegressor</label><div class=\"sk-toggleable__content\"><pre>GradientBoostingRegressor()</pre></div></div></div><div class=\"sk-serial\"><div class=\"sk-item\"><div class=\"sk-estimator sk-toggleable\"><input class=\"sk-toggleable__control sk-hidden--visually\" id=\"sk-estimator-id-3\" type=\"checkbox\" ><label for=\"sk-estimator-id-3\" class=\"sk-toggleable__label sk-toggleable__label-arrow\">GradientBoostingRegressor</label><div class=\"sk-toggleable__content\"><pre>GradientBoostingRegressor()</pre></div></div></div></div></div></div></div></div></div></div>"
            ]
          },
          "metadata": {},
          "execution_count": 13
        }
      ]
    },
    {
      "cell_type": "code",
      "source": [
        "print(\" Results from Grid Search \")\n",
        "print(\"\\n The best estimator across ALL searched params:\\n\", grid_search.best_estimator_)\n",
        "print(\"\\n The best score across ALL searched params:\\n\", grid_search.best_score_)\n",
        "print(\"\\n The best parameters across ALL searched params:\\n\", grid_search.best_params_)\n"
      ],
      "metadata": {
        "colab": {
          "base_uri": "https://localhost:8080/"
        },
        "id": "rb_2oNZQlEjT",
        "outputId": "a850edd8-5726-4dfc-90f0-80a02ffe1c67"
      },
      "execution_count": 14,
      "outputs": [
        {
          "output_type": "stream",
          "name": "stdout",
          "text": [
            " Results from Grid Search \n",
            "\n",
            " The best estimator across ALL searched params:\n",
            " GradientBoostingRegressor(learning_rate=0.03, max_depth=8, subsample=0.2)\n",
            "\n",
            " The best score across ALL searched params:\n",
            " -0.10538456013715802\n",
            "\n",
            " The best parameters across ALL searched params:\n",
            " {'learning_rate': 0.03, 'max_depth': 8, 'n_estimators': 100, 'subsample': 0.2}\n"
          ]
        }
      ]
    },
    {
      "cell_type": "code",
      "source": [
        "# Entrenamiento del modelo optimizado\n",
        "best_model = grid_search.best_estimator_\n",
        "best_model.fit(train_features, train_labels)\n",
        "gbr_tunned_pred = best_model.predict(test_features)"
      ],
      "metadata": {
        "id": "CvKzUSlhlL2W"
      },
      "execution_count": 15,
      "outputs": []
    },
    {
      "cell_type": "code",
      "source": [
        "\n",
        "# Evaluación del modelo optimizado\n",
        "r_sq = best_model.score(test_features, test_labels)\n",
        "print('Coeficiente de Determinación (R²):', r_sq)\n",
        "print('MAE:', metrics.mean_absolute_error(test_labels, gbr_tunned_pred))\n",
        "print('MSE:', metrics.mean_squared_error(test_labels, gbr_tunned_pred))\n",
        "print('RMSE:', np.sqrt(metrics.mean_squared_error(test_labels, gbr_tunned_pred)))"
      ],
      "metadata": {
        "colab": {
          "base_uri": "https://localhost:8080/"
        },
        "id": "mZn0ZD0-lOzz",
        "outputId": "1a54ec10-f35d-4f7f-a653-f6bf2e6ed2fe"
      },
      "execution_count": 16,
      "outputs": [
        {
          "output_type": "stream",
          "name": "stdout",
          "text": [
            "Coeficiente de Determinación (R²): 0.01598100605826691\n",
            "MAE: 38.84658706067769\n",
            "MSE: 1955.1111271638524\n",
            "RMSE: 44.216638578298245\n"
          ]
        }
      ]
    },
    {
      "cell_type": "code",
      "source": [
        "# Generar un nuevo dataset ficticio de salud para predicciones\n",
        "np.random.seed(100)\n",
        "num_new_samples = 10\n",
        "\n",
        "new_data = {\n",
        "    'age': np.random.randint(20, 70, num_new_samples),\n",
        "    'weight': np.random.randint(50, 100, num_new_samples),\n",
        "    'height': np.random.randint(150, 200, num_new_samples),\n",
        "    'systolic_bp': np.random.randint(90, 160, num_new_samples),\n",
        "    'diastolic_bp': np.random.randint(60, 100, num_new_samples),\n",
        "    'bmi': np.round(np.random.uniform(18.5, 35, num_new_samples), 2),\n",
        "    'exercise_freq': np.random.randint(0, 7, num_new_samples),\n",
        "    'smoking': np.random.randint(0, 2, num_new_samples),\n",
        "    'alcohol_consumption': np.random.randint(0, 2, num_new_samples)\n",
        "}\n",
        "\n",
        "new_features = pd.DataFrame(new_data)\n",
        "\n",
        "# Predecir niveles de colesterol en el nuevo dataset\n",
        "new_predictions = grb.predict(new_features)\n",
        "\n",
        "# Añadir las predicciones al nuevo dataset\n",
        "new_features['predicted_cholesterol_level'] = new_predictions\n",
        "\n",
        "# Mostrar el nuevo dataset con las predicciones\n",
        "print(new_features)\n"
      ],
      "metadata": {
        "colab": {
          "base_uri": "https://localhost:8080/"
        },
        "id": "aXfUNdaymy7s",
        "outputId": "12b8096a-218a-4c17-f272-399e8d4ceda4"
      },
      "execution_count": 19,
      "outputs": [
        {
          "output_type": "stream",
          "name": "stdout",
          "text": [
            "   age  weight  height  systolic_bp  diastolic_bp    bmi  exercise_freq  \\\n",
            "0   28      52     166          103            67  19.00              5   \n",
            "1   44      84     159           94            76  31.30              6   \n",
            "2   23      64     179          149            62  27.59              0   \n",
            "3   59      84     172          157            90  24.79              5   \n",
            "4   43      99     152           97            79  27.23              1   \n",
            "5   35      98     177          139            94  34.29              4   \n",
            "6   68      74     194          137            87  21.40              2   \n",
            "7   30      65     154          155            90  20.45              3   \n",
            "8   50      86     181          151            99  32.74              6   \n",
            "9   54      93     151          104            98  19.74              3   \n",
            "\n",
            "   smoking  alcohol_consumption  predicted_cholesterol_level  \n",
            "0        0                    0                   284.887946  \n",
            "1        1                    1                   253.833509  \n",
            "2        0                    0                   299.924029  \n",
            "3        1                    1                   272.749930  \n",
            "4        0                    1                   263.664063  \n",
            "5        1                    0                   266.814507  \n",
            "6        0                    0                   267.408105  \n",
            "7        1                    0                   275.057391  \n",
            "8        1                    0                   282.277760  \n",
            "9        0                    0                   289.349212  \n"
          ]
        },
        {
          "output_type": "stream",
          "name": "stderr",
          "text": [
            "/usr/local/lib/python3.10/dist-packages/sklearn/base.py:432: UserWarning: X has feature names, but GradientBoostingRegressor was fitted without feature names\n",
            "  warnings.warn(\n"
          ]
        }
      ]
    }
  ]
}