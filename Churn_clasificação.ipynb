{
  "nbformat": 4,
  "nbformat_minor": 0,
  "metadata": {
    "colab": {
      "provenance": [],
      "authorship_tag": "ABX9TyPr8Y4+mmf9WqSc+q1JBI7v",
      "include_colab_link": true
    },
    "kernelspec": {
      "name": "python3",
      "display_name": "Python 3"
    },
    "language_info": {
      "name": "python"
    }
  },
  "cells": [
    {
      "cell_type": "markdown",
      "metadata": {
        "id": "view-in-github",
        "colab_type": "text"
      },
      "source": [
        "<a href=\"https://colab.research.google.com/github/DajeanArcila/DajeanArcila/blob/main/Churn_clasifica%C3%A7%C3%A3o.ipynb\" target=\"_parent\"><img src=\"https://colab.research.google.com/assets/colab-badge.svg\" alt=\"Open In Colab\"/></a>"
      ]
    },
    {
      "cell_type": "markdown",
      "source": [
        "#Preveja os usuários com alta chance de deixar seu Streaming\n"
      ],
      "metadata": {
        "id": "dtyMARBYVCtG"
      }
    },
    {
      "cell_type": "code",
      "execution_count": 454,
      "metadata": {
        "id": "23KbsvuXUX12"
      },
      "outputs": [],
      "source": [
        "#importamos as bibliotecas necesarias para manipulação, tratativa, clasificação e para medir as nosas metricas\n",
        "\n",
        "#tratativa de dados\n",
        "import pandas as pd\n",
        "import numpy as np\n",
        "import matplotlib.pyplot as plt\n",
        "import sklearn.linear_model as lm\n",
        "import requests\n",
        "from io import StringIO\n",
        "\n",
        "\n",
        "#medição de metricas\n",
        "from sklearn.metrics import mean_squared_error\n",
        "from sklearn.metrics import r2_score\n",
        "from sklearn.metrics import mean_absolute_error\n",
        "\n",
        "#modelo de ML|RN\n",
        "from sklearn.model_selection import train_test_split\n",
        "from sklearn.linear_model import LogisticRegression\n",
        "from sklearn.metrics import confusion_matrix\n",
        "from sklearn.ensemble import RandomForestClassifier\n"
      ]
    },
    {
      "cell_type": "code",
      "source": [
        "df= pd.read_csv('/content/streaming_data.csv')\n",
        "df.head()"
      ],
      "metadata": {
        "colab": {
          "base_uri": "https://localhost:8080/",
          "height": 486
        },
        "id": "rGchU_5rYxPJ",
        "outputId": "501c438b-a0fc-4880-f513-37f2cea740b2"
      },
      "execution_count": 455,
      "outputs": [
        {
          "output_type": "execute_result",
          "data": {
            "text/plain": [
              "    Age  Gender  Time_on_platform  Devices_connected Subscription_type  \\\n",
              "0  49.0    Male            4700.0                3.0             Basic   \n",
              "1  69.0  Female            6107.0                2.0          Standard   \n",
              "2  44.0    Male            6374.0                3.0           Premium   \n",
              "3  26.0    Male               NaN                5.0             Basic   \n",
              "4  18.0     NaN            1948.0                3.0             Basic   \n",
              "\n",
              "   Num_streaming_services  Num_active_profiles  Avg_rating  Churned  \\\n",
              "0                     NaN                    3         NaN      0.0   \n",
              "1                     NaN                    1        2.14      0.0   \n",
              "2                     1.0                    1        1.91      1.0   \n",
              "3                     NaN                    2         NaN      NaN   \n",
              "4                     NaN                    3        3.88      0.0   \n",
              "\n",
              "                                User_id  \n",
              "0  a271aa56-bcfc-4f0a-91f7-b773de6b86a4  \n",
              "1  fe14b048-770b-4619-8ec6-485b0969ae31  \n",
              "2  0283dffd-6684-4a05-9c6f-c02098a6849d  \n",
              "3  c316f2f5-3403-4a0a-82c2-c98e4b3379d2  \n",
              "4  14879bcb-1977-4ad8-a7f9-6aa9bf7b872f  "
            ],
            "text/html": [
              "\n",
              "  <div id=\"df-cebcaa42-1fea-46d3-ad15-b2701dd6568b\" class=\"colab-df-container\">\n",
              "    <div>\n",
              "<style scoped>\n",
              "    .dataframe tbody tr th:only-of-type {\n",
              "        vertical-align: middle;\n",
              "    }\n",
              "\n",
              "    .dataframe tbody tr th {\n",
              "        vertical-align: top;\n",
              "    }\n",
              "\n",
              "    .dataframe thead th {\n",
              "        text-align: right;\n",
              "    }\n",
              "</style>\n",
              "<table border=\"1\" class=\"dataframe\">\n",
              "  <thead>\n",
              "    <tr style=\"text-align: right;\">\n",
              "      <th></th>\n",
              "      <th>Age</th>\n",
              "      <th>Gender</th>\n",
              "      <th>Time_on_platform</th>\n",
              "      <th>Devices_connected</th>\n",
              "      <th>Subscription_type</th>\n",
              "      <th>Num_streaming_services</th>\n",
              "      <th>Num_active_profiles</th>\n",
              "      <th>Avg_rating</th>\n",
              "      <th>Churned</th>\n",
              "      <th>User_id</th>\n",
              "    </tr>\n",
              "  </thead>\n",
              "  <tbody>\n",
              "    <tr>\n",
              "      <th>0</th>\n",
              "      <td>49.0</td>\n",
              "      <td>Male</td>\n",
              "      <td>4700.0</td>\n",
              "      <td>3.0</td>\n",
              "      <td>Basic</td>\n",
              "      <td>NaN</td>\n",
              "      <td>3</td>\n",
              "      <td>NaN</td>\n",
              "      <td>0.0</td>\n",
              "      <td>a271aa56-bcfc-4f0a-91f7-b773de6b86a4</td>\n",
              "    </tr>\n",
              "    <tr>\n",
              "      <th>1</th>\n",
              "      <td>69.0</td>\n",
              "      <td>Female</td>\n",
              "      <td>6107.0</td>\n",
              "      <td>2.0</td>\n",
              "      <td>Standard</td>\n",
              "      <td>NaN</td>\n",
              "      <td>1</td>\n",
              "      <td>2.14</td>\n",
              "      <td>0.0</td>\n",
              "      <td>fe14b048-770b-4619-8ec6-485b0969ae31</td>\n",
              "    </tr>\n",
              "    <tr>\n",
              "      <th>2</th>\n",
              "      <td>44.0</td>\n",
              "      <td>Male</td>\n",
              "      <td>6374.0</td>\n",
              "      <td>3.0</td>\n",
              "      <td>Premium</td>\n",
              "      <td>1.0</td>\n",
              "      <td>1</td>\n",
              "      <td>1.91</td>\n",
              "      <td>1.0</td>\n",
              "      <td>0283dffd-6684-4a05-9c6f-c02098a6849d</td>\n",
              "    </tr>\n",
              "    <tr>\n",
              "      <th>3</th>\n",
              "      <td>26.0</td>\n",
              "      <td>Male</td>\n",
              "      <td>NaN</td>\n",
              "      <td>5.0</td>\n",
              "      <td>Basic</td>\n",
              "      <td>NaN</td>\n",
              "      <td>2</td>\n",
              "      <td>NaN</td>\n",
              "      <td>NaN</td>\n",
              "      <td>c316f2f5-3403-4a0a-82c2-c98e4b3379d2</td>\n",
              "    </tr>\n",
              "    <tr>\n",
              "      <th>4</th>\n",
              "      <td>18.0</td>\n",
              "      <td>NaN</td>\n",
              "      <td>1948.0</td>\n",
              "      <td>3.0</td>\n",
              "      <td>Basic</td>\n",
              "      <td>NaN</td>\n",
              "      <td>3</td>\n",
              "      <td>3.88</td>\n",
              "      <td>0.0</td>\n",
              "      <td>14879bcb-1977-4ad8-a7f9-6aa9bf7b872f</td>\n",
              "    </tr>\n",
              "  </tbody>\n",
              "</table>\n",
              "</div>\n",
              "    <div class=\"colab-df-buttons\">\n",
              "\n",
              "  <div class=\"colab-df-container\">\n",
              "    <button class=\"colab-df-convert\" onclick=\"convertToInteractive('df-cebcaa42-1fea-46d3-ad15-b2701dd6568b')\"\n",
              "            title=\"Convert this dataframe to an interactive table.\"\n",
              "            style=\"display:none;\">\n",
              "\n",
              "  <svg xmlns=\"http://www.w3.org/2000/svg\" height=\"24px\" viewBox=\"0 -960 960 960\">\n",
              "    <path d=\"M120-120v-720h720v720H120Zm60-500h600v-160H180v160Zm220 220h160v-160H400v160Zm0 220h160v-160H400v160ZM180-400h160v-160H180v160Zm440 0h160v-160H620v160ZM180-180h160v-160H180v160Zm440 0h160v-160H620v160Z\"/>\n",
              "  </svg>\n",
              "    </button>\n",
              "\n",
              "  <style>\n",
              "    .colab-df-container {\n",
              "      display:flex;\n",
              "      gap: 12px;\n",
              "    }\n",
              "\n",
              "    .colab-df-convert {\n",
              "      background-color: #E8F0FE;\n",
              "      border: none;\n",
              "      border-radius: 50%;\n",
              "      cursor: pointer;\n",
              "      display: none;\n",
              "      fill: #1967D2;\n",
              "      height: 32px;\n",
              "      padding: 0 0 0 0;\n",
              "      width: 32px;\n",
              "    }\n",
              "\n",
              "    .colab-df-convert:hover {\n",
              "      background-color: #E2EBFA;\n",
              "      box-shadow: 0px 1px 2px rgba(60, 64, 67, 0.3), 0px 1px 3px 1px rgba(60, 64, 67, 0.15);\n",
              "      fill: #174EA6;\n",
              "    }\n",
              "\n",
              "    .colab-df-buttons div {\n",
              "      margin-bottom: 4px;\n",
              "    }\n",
              "\n",
              "    [theme=dark] .colab-df-convert {\n",
              "      background-color: #3B4455;\n",
              "      fill: #D2E3FC;\n",
              "    }\n",
              "\n",
              "    [theme=dark] .colab-df-convert:hover {\n",
              "      background-color: #434B5C;\n",
              "      box-shadow: 0px 1px 3px 1px rgba(0, 0, 0, 0.15);\n",
              "      filter: drop-shadow(0px 1px 2px rgba(0, 0, 0, 0.3));\n",
              "      fill: #FFFFFF;\n",
              "    }\n",
              "  </style>\n",
              "\n",
              "    <script>\n",
              "      const buttonEl =\n",
              "        document.querySelector('#df-cebcaa42-1fea-46d3-ad15-b2701dd6568b button.colab-df-convert');\n",
              "      buttonEl.style.display =\n",
              "        google.colab.kernel.accessAllowed ? 'block' : 'none';\n",
              "\n",
              "      async function convertToInteractive(key) {\n",
              "        const element = document.querySelector('#df-cebcaa42-1fea-46d3-ad15-b2701dd6568b');\n",
              "        const dataTable =\n",
              "          await google.colab.kernel.invokeFunction('convertToInteractive',\n",
              "                                                    [key], {});\n",
              "        if (!dataTable) return;\n",
              "\n",
              "        const docLinkHtml = 'Like what you see? Visit the ' +\n",
              "          '<a target=\"_blank\" href=https://colab.research.google.com/notebooks/data_table.ipynb>data table notebook</a>'\n",
              "          + ' to learn more about interactive tables.';\n",
              "        element.innerHTML = '';\n",
              "        dataTable['output_type'] = 'display_data';\n",
              "        await google.colab.output.renderOutput(dataTable, element);\n",
              "        const docLink = document.createElement('div');\n",
              "        docLink.innerHTML = docLinkHtml;\n",
              "        element.appendChild(docLink);\n",
              "      }\n",
              "    </script>\n",
              "  </div>\n",
              "\n",
              "\n",
              "<div id=\"df-7295ce4d-3098-4277-be0f-dbf29db93715\">\n",
              "  <button class=\"colab-df-quickchart\" onclick=\"quickchart('df-7295ce4d-3098-4277-be0f-dbf29db93715')\"\n",
              "            title=\"Suggest charts\"\n",
              "            style=\"display:none;\">\n",
              "\n",
              "<svg xmlns=\"http://www.w3.org/2000/svg\" height=\"24px\"viewBox=\"0 0 24 24\"\n",
              "     width=\"24px\">\n",
              "    <g>\n",
              "        <path d=\"M19 3H5c-1.1 0-2 .9-2 2v14c0 1.1.9 2 2 2h14c1.1 0 2-.9 2-2V5c0-1.1-.9-2-2-2zM9 17H7v-7h2v7zm4 0h-2V7h2v10zm4 0h-2v-4h2v4z\"/>\n",
              "    </g>\n",
              "</svg>\n",
              "  </button>\n",
              "\n",
              "<style>\n",
              "  .colab-df-quickchart {\n",
              "      --bg-color: #E8F0FE;\n",
              "      --fill-color: #1967D2;\n",
              "      --hover-bg-color: #E2EBFA;\n",
              "      --hover-fill-color: #174EA6;\n",
              "      --disabled-fill-color: #AAA;\n",
              "      --disabled-bg-color: #DDD;\n",
              "  }\n",
              "\n",
              "  [theme=dark] .colab-df-quickchart {\n",
              "      --bg-color: #3B4455;\n",
              "      --fill-color: #D2E3FC;\n",
              "      --hover-bg-color: #434B5C;\n",
              "      --hover-fill-color: #FFFFFF;\n",
              "      --disabled-bg-color: #3B4455;\n",
              "      --disabled-fill-color: #666;\n",
              "  }\n",
              "\n",
              "  .colab-df-quickchart {\n",
              "    background-color: var(--bg-color);\n",
              "    border: none;\n",
              "    border-radius: 50%;\n",
              "    cursor: pointer;\n",
              "    display: none;\n",
              "    fill: var(--fill-color);\n",
              "    height: 32px;\n",
              "    padding: 0;\n",
              "    width: 32px;\n",
              "  }\n",
              "\n",
              "  .colab-df-quickchart:hover {\n",
              "    background-color: var(--hover-bg-color);\n",
              "    box-shadow: 0 1px 2px rgba(60, 64, 67, 0.3), 0 1px 3px 1px rgba(60, 64, 67, 0.15);\n",
              "    fill: var(--button-hover-fill-color);\n",
              "  }\n",
              "\n",
              "  .colab-df-quickchart-complete:disabled,\n",
              "  .colab-df-quickchart-complete:disabled:hover {\n",
              "    background-color: var(--disabled-bg-color);\n",
              "    fill: var(--disabled-fill-color);\n",
              "    box-shadow: none;\n",
              "  }\n",
              "\n",
              "  .colab-df-spinner {\n",
              "    border: 2px solid var(--fill-color);\n",
              "    border-color: transparent;\n",
              "    border-bottom-color: var(--fill-color);\n",
              "    animation:\n",
              "      spin 1s steps(1) infinite;\n",
              "  }\n",
              "\n",
              "  @keyframes spin {\n",
              "    0% {\n",
              "      border-color: transparent;\n",
              "      border-bottom-color: var(--fill-color);\n",
              "      border-left-color: var(--fill-color);\n",
              "    }\n",
              "    20% {\n",
              "      border-color: transparent;\n",
              "      border-left-color: var(--fill-color);\n",
              "      border-top-color: var(--fill-color);\n",
              "    }\n",
              "    30% {\n",
              "      border-color: transparent;\n",
              "      border-left-color: var(--fill-color);\n",
              "      border-top-color: var(--fill-color);\n",
              "      border-right-color: var(--fill-color);\n",
              "    }\n",
              "    40% {\n",
              "      border-color: transparent;\n",
              "      border-right-color: var(--fill-color);\n",
              "      border-top-color: var(--fill-color);\n",
              "    }\n",
              "    60% {\n",
              "      border-color: transparent;\n",
              "      border-right-color: var(--fill-color);\n",
              "    }\n",
              "    80% {\n",
              "      border-color: transparent;\n",
              "      border-right-color: var(--fill-color);\n",
              "      border-bottom-color: var(--fill-color);\n",
              "    }\n",
              "    90% {\n",
              "      border-color: transparent;\n",
              "      border-bottom-color: var(--fill-color);\n",
              "    }\n",
              "  }\n",
              "</style>\n",
              "\n",
              "  <script>\n",
              "    async function quickchart(key) {\n",
              "      const quickchartButtonEl =\n",
              "        document.querySelector('#' + key + ' button');\n",
              "      quickchartButtonEl.disabled = true;  // To prevent multiple clicks.\n",
              "      quickchartButtonEl.classList.add('colab-df-spinner');\n",
              "      try {\n",
              "        const charts = await google.colab.kernel.invokeFunction(\n",
              "            'suggestCharts', [key], {});\n",
              "      } catch (error) {\n",
              "        console.error('Error during call to suggestCharts:', error);\n",
              "      }\n",
              "      quickchartButtonEl.classList.remove('colab-df-spinner');\n",
              "      quickchartButtonEl.classList.add('colab-df-quickchart-complete');\n",
              "    }\n",
              "    (() => {\n",
              "      let quickchartButtonEl =\n",
              "        document.querySelector('#df-7295ce4d-3098-4277-be0f-dbf29db93715 button');\n",
              "      quickchartButtonEl.style.display =\n",
              "        google.colab.kernel.accessAllowed ? 'block' : 'none';\n",
              "    })();\n",
              "  </script>\n",
              "</div>\n",
              "\n",
              "    </div>\n",
              "  </div>\n"
            ],
            "application/vnd.google.colaboratory.intrinsic+json": {
              "type": "dataframe",
              "variable_name": "df",
              "summary": "{\n  \"name\": \"df\",\n  \"rows\": 77884,\n  \"fields\": [\n    {\n      \"column\": \"Age\",\n      \"properties\": {\n        \"dtype\": \"number\",\n        \"std\": 15.043158035160268,\n        \"min\": 18.0,\n        \"max\": 69.0,\n        \"num_unique_values\": 52,\n        \"samples\": [\n          41.0,\n          29.0,\n          36.0\n        ],\n        \"semantic_type\": \"\",\n        \"description\": \"\"\n      }\n    },\n    {\n      \"column\": \"Gender\",\n      \"properties\": {\n        \"dtype\": \"category\",\n        \"num_unique_values\": 2,\n        \"samples\": [\n          \"Female\",\n          \"Male\"\n        ],\n        \"semantic_type\": \"\",\n        \"description\": \"\"\n      }\n    },\n    {\n      \"column\": \"Time_on_platform\",\n      \"properties\": {\n        \"dtype\": \"number\",\n        \"std\": 2526.5808586947346,\n        \"min\": 0.0,\n        \"max\": 8759.0,\n        \"num_unique_values\": 8721,\n        \"samples\": [\n          3185.0,\n          6036.0\n        ],\n        \"semantic_type\": \"\",\n        \"description\": \"\"\n      }\n    },\n    {\n      \"column\": \"Devices_connected\",\n      \"properties\": {\n        \"dtype\": \"number\",\n        \"std\": 1.4140717863542904,\n        \"min\": 1.0,\n        \"max\": 5.0,\n        \"num_unique_values\": 5,\n        \"samples\": [\n          2.0,\n          4.0\n        ],\n        \"semantic_type\": \"\",\n        \"description\": \"\"\n      }\n    },\n    {\n      \"column\": \"Subscription_type\",\n      \"properties\": {\n        \"dtype\": \"category\",\n        \"num_unique_values\": 3,\n        \"samples\": [\n          \"Basic\",\n          \"Standard\"\n        ],\n        \"semantic_type\": \"\",\n        \"description\": \"\"\n      }\n    },\n    {\n      \"column\": \"Num_streaming_services\",\n      \"properties\": {\n        \"dtype\": \"number\",\n        \"std\": 1.1206995425837774,\n        \"min\": 1.0,\n        \"max\": 4.0,\n        \"num_unique_values\": 4,\n        \"samples\": [\n          2.0,\n          4.0\n        ],\n        \"semantic_type\": \"\",\n        \"description\": \"\"\n      }\n    },\n    {\n      \"column\": \"Num_active_profiles\",\n      \"properties\": {\n        \"dtype\": \"number\",\n        \"std\": 1,\n        \"min\": 1,\n        \"max\": 5,\n        \"num_unique_values\": 5,\n        \"samples\": [\n          1,\n          5\n        ],\n        \"semantic_type\": \"\",\n        \"description\": \"\"\n      }\n    },\n    {\n      \"column\": \"Avg_rating\",\n      \"properties\": {\n        \"dtype\": \"number\",\n        \"std\": 1.1549625322041186,\n        \"min\": 1.0,\n        \"max\": 5.0,\n        \"num_unique_values\": 401,\n        \"samples\": [\n          1.99,\n          4.19\n        ],\n        \"semantic_type\": \"\",\n        \"description\": \"\"\n      }\n    },\n    {\n      \"column\": \"Churned\",\n      \"properties\": {\n        \"dtype\": \"number\",\n        \"std\": 0.4289381429634862,\n        \"min\": 0.0,\n        \"max\": 1.0,\n        \"num_unique_values\": 2,\n        \"samples\": [\n          1.0,\n          0.0\n        ],\n        \"semantic_type\": \"\",\n        \"description\": \"\"\n      }\n    },\n    {\n      \"column\": \"User_id\",\n      \"properties\": {\n        \"dtype\": \"string\",\n        \"num_unique_values\": 65481,\n        \"samples\": [\n          \"88e04ece-8d0b-4ff2-8b61-85d9af8d6795\",\n          \"ee306e34-a362-4b9b-89d0-c8a10965f110\"\n        ],\n        \"semantic_type\": \"\",\n        \"description\": \"\"\n      }\n    }\n  ]\n}"
            }
          },
          "metadata": {},
          "execution_count": 455
        }
      ]
    },
    {
      "cell_type": "code",
      "source": [
        "df.info()"
      ],
      "metadata": {
        "colab": {
          "base_uri": "https://localhost:8080/"
        },
        "id": "hQR0j9NKZEhm",
        "outputId": "3891fad2-cb46-40a5-e686-8c57a69ae334"
      },
      "execution_count": 456,
      "outputs": [
        {
          "output_type": "stream",
          "name": "stdout",
          "text": [
            "<class 'pandas.core.frame.DataFrame'>\n",
            "RangeIndex: 77884 entries, 0 to 77883\n",
            "Data columns (total 10 columns):\n",
            " #   Column                  Non-Null Count  Dtype  \n",
            "---  ------                  --------------  -----  \n",
            " 0   Age                     66607 non-null  float64\n",
            " 1   Gender                  63368 non-null  object \n",
            " 2   Time_on_platform        56464 non-null  float64\n",
            " 3   Devices_connected       52696 non-null  float64\n",
            " 4   Subscription_type       52663 non-null  object \n",
            " 5   Num_streaming_services  9572 non-null   float64\n",
            " 6   Num_active_profiles     77884 non-null  int64  \n",
            " 7   Avg_rating              60614 non-null  float64\n",
            " 8   Churned                 61148 non-null  float64\n",
            " 9   User_id                 77884 non-null  object \n",
            "dtypes: float64(6), int64(1), object(3)\n",
            "memory usage: 5.9+ MB\n"
          ]
        }
      ]
    },
    {
      "cell_type": "code",
      "source": [
        "df.isna().sum()"
      ],
      "metadata": {
        "colab": {
          "base_uri": "https://localhost:8080/",
          "height": 397
        },
        "id": "FflOr2iMZX5t",
        "outputId": "746ccf2b-9ce4-4a48-db0f-7a0130498a6c"
      },
      "execution_count": 457,
      "outputs": [
        {
          "output_type": "execute_result",
          "data": {
            "text/plain": [
              "Age                       11277\n",
              "Gender                    14516\n",
              "Time_on_platform          21420\n",
              "Devices_connected         25188\n",
              "Subscription_type         25221\n",
              "Num_streaming_services    68312\n",
              "Num_active_profiles           0\n",
              "Avg_rating                17270\n",
              "Churned                   16736\n",
              "User_id                       0\n",
              "dtype: int64"
            ],
            "text/html": [
              "<div>\n",
              "<style scoped>\n",
              "    .dataframe tbody tr th:only-of-type {\n",
              "        vertical-align: middle;\n",
              "    }\n",
              "\n",
              "    .dataframe tbody tr th {\n",
              "        vertical-align: top;\n",
              "    }\n",
              "\n",
              "    .dataframe thead th {\n",
              "        text-align: right;\n",
              "    }\n",
              "</style>\n",
              "<table border=\"1\" class=\"dataframe\">\n",
              "  <thead>\n",
              "    <tr style=\"text-align: right;\">\n",
              "      <th></th>\n",
              "      <th>0</th>\n",
              "    </tr>\n",
              "  </thead>\n",
              "  <tbody>\n",
              "    <tr>\n",
              "      <th>Age</th>\n",
              "      <td>11277</td>\n",
              "    </tr>\n",
              "    <tr>\n",
              "      <th>Gender</th>\n",
              "      <td>14516</td>\n",
              "    </tr>\n",
              "    <tr>\n",
              "      <th>Time_on_platform</th>\n",
              "      <td>21420</td>\n",
              "    </tr>\n",
              "    <tr>\n",
              "      <th>Devices_connected</th>\n",
              "      <td>25188</td>\n",
              "    </tr>\n",
              "    <tr>\n",
              "      <th>Subscription_type</th>\n",
              "      <td>25221</td>\n",
              "    </tr>\n",
              "    <tr>\n",
              "      <th>Num_streaming_services</th>\n",
              "      <td>68312</td>\n",
              "    </tr>\n",
              "    <tr>\n",
              "      <th>Num_active_profiles</th>\n",
              "      <td>0</td>\n",
              "    </tr>\n",
              "    <tr>\n",
              "      <th>Avg_rating</th>\n",
              "      <td>17270</td>\n",
              "    </tr>\n",
              "    <tr>\n",
              "      <th>Churned</th>\n",
              "      <td>16736</td>\n",
              "    </tr>\n",
              "    <tr>\n",
              "      <th>User_id</th>\n",
              "      <td>0</td>\n",
              "    </tr>\n",
              "  </tbody>\n",
              "</table>\n",
              "</div><br><label><b>dtype:</b> int64</label>"
            ]
          },
          "metadata": {},
          "execution_count": 457
        }
      ]
    },
    {
      "cell_type": "code",
      "source": [
        "#Posivelmente esta variavel nao afete muito a nossa analise, igual aqui apresento uma opcao para resolver este problema\n",
        "'''\n",
        "generos = ['Male', 'Female']\n",
        "\n",
        "df['Gender'] = df['Gender'].apply(lambda x: np.random.choice(generos) if pd.isna(x) else x)\n",
        "'''"
      ],
      "metadata": {
        "colab": {
          "base_uri": "https://localhost:8080/",
          "height": 35
        },
        "id": "I4RHijXTzY3j",
        "outputId": "6ee61f4d-7b03-41d0-9522-7600c65bfe3b"
      },
      "execution_count": 458,
      "outputs": [
        {
          "output_type": "execute_result",
          "data": {
            "text/plain": [
              "\"\\ngeneros = ['Male', 'Female']\\n\\ndf['Gender'] = df['Gender'].apply(lambda x: np.random.choice(generos) if pd.isna(x) else x)\\n\""
            ],
            "application/vnd.google.colaboratory.intrinsic+json": {
              "type": "string"
            }
          },
          "metadata": {},
          "execution_count": 458
        }
      ]
    },
    {
      "cell_type": "code",
      "source": [
        "df['Avg_rating'].fillna(0, inplace=True)\n",
        "\n",
        "df['Num_streaming_services'].fillna(0, inplace=True)\n",
        "\n",
        "df['Devices_connected'].fillna(0,inplace=True)\n",
        "\n",
        "df['Time_on_platform'].fillna(0,inplace=True)\n",
        "\n",
        "df['Churned'].fillna(0,inplace=True)\n",
        "\n"
      ],
      "metadata": {
        "id": "WPZp78dcbIwM"
      },
      "execution_count": 459,
      "outputs": []
    },
    {
      "cell_type": "code",
      "source": [
        "df.isna().sum()"
      ],
      "metadata": {
        "colab": {
          "base_uri": "https://localhost:8080/",
          "height": 397
        },
        "id": "7bUxItIxbSDs",
        "outputId": "1ec8913a-32c4-4b70-88f3-94aaa1bde05e"
      },
      "execution_count": 460,
      "outputs": [
        {
          "output_type": "execute_result",
          "data": {
            "text/plain": [
              "Age                       11277\n",
              "Gender                    14516\n",
              "Time_on_platform              0\n",
              "Devices_connected             0\n",
              "Subscription_type         25221\n",
              "Num_streaming_services        0\n",
              "Num_active_profiles           0\n",
              "Avg_rating                    0\n",
              "Churned                       0\n",
              "User_id                       0\n",
              "dtype: int64"
            ],
            "text/html": [
              "<div>\n",
              "<style scoped>\n",
              "    .dataframe tbody tr th:only-of-type {\n",
              "        vertical-align: middle;\n",
              "    }\n",
              "\n",
              "    .dataframe tbody tr th {\n",
              "        vertical-align: top;\n",
              "    }\n",
              "\n",
              "    .dataframe thead th {\n",
              "        text-align: right;\n",
              "    }\n",
              "</style>\n",
              "<table border=\"1\" class=\"dataframe\">\n",
              "  <thead>\n",
              "    <tr style=\"text-align: right;\">\n",
              "      <th></th>\n",
              "      <th>0</th>\n",
              "    </tr>\n",
              "  </thead>\n",
              "  <tbody>\n",
              "    <tr>\n",
              "      <th>Age</th>\n",
              "      <td>11277</td>\n",
              "    </tr>\n",
              "    <tr>\n",
              "      <th>Gender</th>\n",
              "      <td>14516</td>\n",
              "    </tr>\n",
              "    <tr>\n",
              "      <th>Time_on_platform</th>\n",
              "      <td>0</td>\n",
              "    </tr>\n",
              "    <tr>\n",
              "      <th>Devices_connected</th>\n",
              "      <td>0</td>\n",
              "    </tr>\n",
              "    <tr>\n",
              "      <th>Subscription_type</th>\n",
              "      <td>25221</td>\n",
              "    </tr>\n",
              "    <tr>\n",
              "      <th>Num_streaming_services</th>\n",
              "      <td>0</td>\n",
              "    </tr>\n",
              "    <tr>\n",
              "      <th>Num_active_profiles</th>\n",
              "      <td>0</td>\n",
              "    </tr>\n",
              "    <tr>\n",
              "      <th>Avg_rating</th>\n",
              "      <td>0</td>\n",
              "    </tr>\n",
              "    <tr>\n",
              "      <th>Churned</th>\n",
              "      <td>0</td>\n",
              "    </tr>\n",
              "    <tr>\n",
              "      <th>User_id</th>\n",
              "      <td>0</td>\n",
              "    </tr>\n",
              "  </tbody>\n",
              "</table>\n",
              "</div><br><label><b>dtype:</b> int64</label>"
            ]
          },
          "metadata": {},
          "execution_count": 460
        }
      ]
    },
    {
      "cell_type": "code",
      "source": [
        "df.info()"
      ],
      "metadata": {
        "colab": {
          "base_uri": "https://localhost:8080/"
        },
        "id": "HIErhKZJdXIS",
        "outputId": "4402ef59-fcc1-40c4-de66-c5ab2bbd57f5"
      },
      "execution_count": 461,
      "outputs": [
        {
          "output_type": "stream",
          "name": "stdout",
          "text": [
            "<class 'pandas.core.frame.DataFrame'>\n",
            "RangeIndex: 77884 entries, 0 to 77883\n",
            "Data columns (total 10 columns):\n",
            " #   Column                  Non-Null Count  Dtype  \n",
            "---  ------                  --------------  -----  \n",
            " 0   Age                     66607 non-null  float64\n",
            " 1   Gender                  63368 non-null  object \n",
            " 2   Time_on_platform        77884 non-null  float64\n",
            " 3   Devices_connected       77884 non-null  float64\n",
            " 4   Subscription_type       52663 non-null  object \n",
            " 5   Num_streaming_services  77884 non-null  float64\n",
            " 6   Num_active_profiles     77884 non-null  int64  \n",
            " 7   Avg_rating              77884 non-null  float64\n",
            " 8   Churned                 77884 non-null  float64\n",
            " 9   User_id                 77884 non-null  object \n",
            "dtypes: float64(6), int64(1), object(3)\n",
            "memory usage: 5.9+ MB\n"
          ]
        }
      ]
    },
    {
      "cell_type": "code",
      "source": [
        "# Ver la distribución de valores en una columna después de la imputación\n",
        "print(df['Gender'].value_counts())\n",
        "print(df['Subscription_type'].value_counts())"
      ],
      "metadata": {
        "colab": {
          "base_uri": "https://localhost:8080/"
        },
        "id": "Z68RlZ_P_KBh",
        "outputId": "f53c736f-9143-49fb-e6fa-274ed0b8d634"
      },
      "execution_count": 462,
      "outputs": [
        {
          "output_type": "stream",
          "name": "stdout",
          "text": [
            "Gender\n",
            "Male      31796\n",
            "Female    31572\n",
            "Name: count, dtype: int64\n",
            "Subscription_type\n",
            "Premium     17625\n",
            "Basic       17527\n",
            "Standard    17511\n",
            "Name: count, dtype: int64\n"
          ]
        }
      ]
    },
    {
      "cell_type": "code",
      "source": [
        "df['Churned'].value_counts()"
      ],
      "metadata": {
        "colab": {
          "base_uri": "https://localhost:8080/",
          "height": 178
        },
        "id": "qA1Vq5x0GfwO",
        "outputId": "d238a879-8c31-4010-84f8-cf061447cacf"
      },
      "execution_count": 463,
      "outputs": [
        {
          "output_type": "execute_result",
          "data": {
            "text/plain": [
              "Churned\n",
              "0.0    63021\n",
              "1.0    14863\n",
              "Name: count, dtype: int64"
            ],
            "text/html": [
              "<div>\n",
              "<style scoped>\n",
              "    .dataframe tbody tr th:only-of-type {\n",
              "        vertical-align: middle;\n",
              "    }\n",
              "\n",
              "    .dataframe tbody tr th {\n",
              "        vertical-align: top;\n",
              "    }\n",
              "\n",
              "    .dataframe thead th {\n",
              "        text-align: right;\n",
              "    }\n",
              "</style>\n",
              "<table border=\"1\" class=\"dataframe\">\n",
              "  <thead>\n",
              "    <tr style=\"text-align: right;\">\n",
              "      <th></th>\n",
              "      <th>count</th>\n",
              "    </tr>\n",
              "    <tr>\n",
              "      <th>Churned</th>\n",
              "      <th></th>\n",
              "    </tr>\n",
              "  </thead>\n",
              "  <tbody>\n",
              "    <tr>\n",
              "      <th>0.0</th>\n",
              "      <td>63021</td>\n",
              "    </tr>\n",
              "    <tr>\n",
              "      <th>1.0</th>\n",
              "      <td>14863</td>\n",
              "    </tr>\n",
              "  </tbody>\n",
              "</table>\n",
              "</div><br><label><b>dtype:</b> int64</label>"
            ]
          },
          "metadata": {},
          "execution_count": 463
        }
      ]
    },
    {
      "cell_type": "code",
      "source": [
        "# Eliminar nulos por columna individualmente y observar el efecto en los datos\n",
        "#df = df.dropna(subset=['Gender'])\n",
        "#df = df.dropna(subset=['Subscription_type'])\n",
        "#df = df.dropna(subset=['Age'])\n",
        "df.dropna(inplace=True)"
      ],
      "metadata": {
        "id": "jgSJne6q0gY2"
      },
      "execution_count": 464,
      "outputs": []
    },
    {
      "cell_type": "code",
      "source": [
        "# Convertir todas las columnas float a int\n",
        "df = df.astype({'Time_on_platform': 'int', 'Devices_connected': 'int','Num_streaming_services':'int','Avg_rating':'int','Age':'int','Churned':'int'})"
      ],
      "metadata": {
        "id": "JSM_S_yk1Ocv"
      },
      "execution_count": 465,
      "outputs": []
    },
    {
      "cell_type": "code",
      "source": [
        "df['Churned'] = df['Churned'].replace({0: 'No', 1: 'yes'})"
      ],
      "metadata": {
        "id": "RsTQthyb5SqH"
      },
      "execution_count": 466,
      "outputs": []
    },
    {
      "cell_type": "code",
      "source": [
        "df.info()"
      ],
      "metadata": {
        "colab": {
          "base_uri": "https://localhost:8080/"
        },
        "id": "T21AumHdAdhP",
        "outputId": "c6efbe17-7832-4a6f-8cf0-3a9b25196fac"
      },
      "execution_count": 467,
      "outputs": [
        {
          "output_type": "stream",
          "name": "stdout",
          "text": [
            "<class 'pandas.core.frame.DataFrame'>\n",
            "Index: 36515 entries, 0 to 77883\n",
            "Data columns (total 10 columns):\n",
            " #   Column                  Non-Null Count  Dtype \n",
            "---  ------                  --------------  ----- \n",
            " 0   Age                     36515 non-null  int64 \n",
            " 1   Gender                  36515 non-null  object\n",
            " 2   Time_on_platform        36515 non-null  int64 \n",
            " 3   Devices_connected       36515 non-null  int64 \n",
            " 4   Subscription_type       36515 non-null  object\n",
            " 5   Num_streaming_services  36515 non-null  int64 \n",
            " 6   Num_active_profiles     36515 non-null  int64 \n",
            " 7   Avg_rating              36515 non-null  int64 \n",
            " 8   Churned                 36515 non-null  object\n",
            " 9   User_id                 36515 non-null  object\n",
            "dtypes: int64(6), object(4)\n",
            "memory usage: 3.1+ MB\n"
          ]
        }
      ]
    },
    {
      "cell_type": "code",
      "source": [
        "df['Churned'].value_counts()"
      ],
      "metadata": {
        "colab": {
          "base_uri": "https://localhost:8080/",
          "height": 178
        },
        "id": "eHHbHu0MGWoU",
        "outputId": "4ae1884d-cc7d-4cbb-978b-c74d33cbab96"
      },
      "execution_count": 468,
      "outputs": [
        {
          "output_type": "execute_result",
          "data": {
            "text/plain": [
              "Churned\n",
              "No     29459\n",
              "yes     7056\n",
              "Name: count, dtype: int64"
            ],
            "text/html": [
              "<div>\n",
              "<style scoped>\n",
              "    .dataframe tbody tr th:only-of-type {\n",
              "        vertical-align: middle;\n",
              "    }\n",
              "\n",
              "    .dataframe tbody tr th {\n",
              "        vertical-align: top;\n",
              "    }\n",
              "\n",
              "    .dataframe thead th {\n",
              "        text-align: right;\n",
              "    }\n",
              "</style>\n",
              "<table border=\"1\" class=\"dataframe\">\n",
              "  <thead>\n",
              "    <tr style=\"text-align: right;\">\n",
              "      <th></th>\n",
              "      <th>count</th>\n",
              "    </tr>\n",
              "    <tr>\n",
              "      <th>Churned</th>\n",
              "      <th></th>\n",
              "    </tr>\n",
              "  </thead>\n",
              "  <tbody>\n",
              "    <tr>\n",
              "      <th>No</th>\n",
              "      <td>29459</td>\n",
              "    </tr>\n",
              "    <tr>\n",
              "      <th>yes</th>\n",
              "      <td>7056</td>\n",
              "    </tr>\n",
              "  </tbody>\n",
              "</table>\n",
              "</div><br><label><b>dtype:</b> int64</label>"
            ]
          },
          "metadata": {},
          "execution_count": 468
        }
      ]
    },
    {
      "cell_type": "code",
      "source": [
        "cat_vars = [\"Gender\",\"User_id\",\"Churned\",\"Subscription_type\"]\n",
        "num_vars = [\"Age\",\"Time_on_platform\",\"Devices_connected\",\"Num_streaming_services\",\"Avg_rating\"]\n",
        "modeling_vars = cat_vars + num_vars"
      ],
      "metadata": {
        "id": "MeyHsq0pH86j"
      },
      "execution_count": 484,
      "outputs": []
    },
    {
      "cell_type": "code",
      "source": [
        "LogisticRegression"
      ],
      "metadata": {
        "id": "ErcNbFFZKN6U"
      },
      "execution_count": null,
      "outputs": []
    }
  ]
}