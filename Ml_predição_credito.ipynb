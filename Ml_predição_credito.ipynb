{
  "nbformat": 4,
  "nbformat_minor": 0,
  "metadata": {
    "colab": {
      "provenance": [],
      "toc_visible": true,
      "authorship_tag": "ABX9TyPNNgN2Gwr48jnj95fhkgNg",
      "include_colab_link": true
    },
    "kernelspec": {
      "name": "python3",
      "display_name": "Python 3"
    },
    "language_info": {
      "name": "python"
    }
  },
  "cells": [
    {
      "cell_type": "markdown",
      "metadata": {
        "id": "view-in-github",
        "colab_type": "text"
      },
      "source": [
        "<a href=\"https://colab.research.google.com/github/DajeanArcila/DajeanArcila/blob/main/Ml_predi%C3%A7%C3%A3o_credito.ipynb\" target=\"_parent\"><img src=\"https://colab.research.google.com/assets/colab-badge.svg\" alt=\"Open In Colab\"/></a>"
      ]
    },
    {
      "cell_type": "code",
      "execution_count": 49,
      "metadata": {
        "id": "m9JYpwDoi47d"
      },
      "outputs": [],
      "source": [
        "#trabajo para analisar el credito que pueden aceptarle a los clientes"
      ]
    },
    {
      "cell_type": "markdown",
      "source": [
        "# Modelo de prediccion de credito para el area financiera"
      ],
      "metadata": {
        "id": "pYDkC47QXB-x"
      }
    },
    {
      "cell_type": "code",
      "source": [
        "import pandas as pd\n",
        "\n",
        "# Cargar el conjunto de datos\n",
        "df = pd.read_csv('/content/dataset_clientes_banco.csv')\n",
        "\n",
        "# Mostrar las primeras filas del dataframe\n",
        "print(df.head())\n",
        "\n"
      ],
      "metadata": {
        "colab": {
          "base_uri": "https://localhost:8080/"
        },
        "id": "rXs5n11cWU7m",
        "outputId": "3ae4a38e-d262-464d-ce7f-dfd0303a4692"
      },
      "execution_count": 61,
      "outputs": [
        {
          "output_type": "stream",
          "name": "stdout",
          "text": [
            "   id_cliente    status  idade     genero  num_dependentes nivel_educacao  \\\n",
            "0           1   vigente     64  masculino                3  pos-graduacao   \n",
            "1           2  retirado     29  masculino                2    fundamental   \n",
            "2           3   vigente     33  masculino                3  pos-graduacao   \n",
            "3           4   vigente     41  masculino                1          medio   \n",
            "4           5   vigente     36   feminino                0       superior   \n",
            "\n",
            "  estado_civil categoria categoria_cartao  tempo_cliente  num_transacoes_6m  \\\n",
            "0       casado         E            black              4                 53   \n",
            "1       casado         A         platinum             14                 85   \n",
            "2     solteiro         A             blue             18                 31   \n",
            "3       casado         A             blue              8                 57   \n",
            "4       casado         B         platinum             10                 45   \n",
            "\n",
            "   salario  valor_total_mensal_entrada  valor_total_mensal_saida  \\\n",
            "0    94225                        4044                      7034   \n",
            "1    65489                        6530                      2381   \n",
            "2   112917                        5992                      4127   \n",
            "3    83721                        4924                      8483   \n",
            "4   115044                        7970                      2208   \n",
            "\n",
            "   creditos_passados  valor_atual_cartao_credito  \\\n",
            "0                  8                        3200   \n",
            "1                  7                       17889   \n",
            "2                  5                       18585   \n",
            "3                  3                       13839   \n",
            "4                  1                       16334   \n",
            "\n",
            "   valor_disponivel_credito_grande  \n",
            "0                            45573  \n",
            "1                            11223  \n",
            "2                            46110  \n",
            "3                            34626  \n",
            "4                            40917  \n"
          ]
        }
      ]
    },
    {
      "cell_type": "code",
      "source": [
        "\n",
        "# Obtener información del dataframe\n",
        "df.info()\n"
      ],
      "metadata": {
        "colab": {
          "base_uri": "https://localhost:8080/"
        },
        "id": "e3WA6aXyWgxf",
        "outputId": "b99f802d-ba94-4743-a843-22c5f9f14e09"
      },
      "execution_count": 62,
      "outputs": [
        {
          "output_type": "stream",
          "name": "stdout",
          "text": [
            "<class 'pandas.core.frame.DataFrame'>\n",
            "RangeIndex: 2000 entries, 0 to 1999\n",
            "Data columns (total 17 columns):\n",
            " #   Column                           Non-Null Count  Dtype \n",
            "---  ------                           --------------  ----- \n",
            " 0   id_cliente                       2000 non-null   int64 \n",
            " 1   status                           2000 non-null   object\n",
            " 2   idade                            2000 non-null   int64 \n",
            " 3   genero                           2000 non-null   object\n",
            " 4   num_dependentes                  2000 non-null   int64 \n",
            " 5   nivel_educacao                   2000 non-null   object\n",
            " 6   estado_civil                     2000 non-null   object\n",
            " 7   categoria                        2000 non-null   object\n",
            " 8   categoria_cartao                 2000 non-null   object\n",
            " 9   tempo_cliente                    2000 non-null   int64 \n",
            " 10  num_transacoes_6m                2000 non-null   int64 \n",
            " 11  salario                          2000 non-null   int64 \n",
            " 12  valor_total_mensal_entrada       2000 non-null   int64 \n",
            " 13  valor_total_mensal_saida         2000 non-null   int64 \n",
            " 14  creditos_passados                2000 non-null   int64 \n",
            " 15  valor_atual_cartao_credito       2000 non-null   int64 \n",
            " 16  valor_disponivel_credito_grande  2000 non-null   int64 \n",
            "dtypes: int64(11), object(6)\n",
            "memory usage: 265.8+ KB\n"
          ]
        }
      ]
    },
    {
      "cell_type": "code",
      "source": [
        "\n",
        "# Descripción estadística del dataframe\n",
        "print(df.describe(include='all'))"
      ],
      "metadata": {
        "colab": {
          "base_uri": "https://localhost:8080/"
        },
        "id": "VqEj7XTzWh4P",
        "outputId": "4ce6198d-d726-4080-c5bc-6abb1413000e"
      },
      "execution_count": 63,
      "outputs": [
        {
          "output_type": "stream",
          "name": "stdout",
          "text": [
            "         id_cliente   status        idade     genero  num_dependentes  \\\n",
            "count   2000.000000     2000  2000.000000       2000      2000.000000   \n",
            "unique          NaN        2          NaN          2              NaN   \n",
            "top             NaN  vigente          NaN  masculino              NaN   \n",
            "freq            NaN     1016          NaN       1040              NaN   \n",
            "mean    1000.500000      NaN    43.307500        NaN         2.024000   \n",
            "std      577.494589      NaN    14.813057        NaN         1.407983   \n",
            "min        1.000000      NaN    18.000000        NaN         0.000000   \n",
            "25%      500.750000      NaN    31.000000        NaN         1.000000   \n",
            "50%     1000.500000      NaN    43.000000        NaN         2.000000   \n",
            "75%     1500.250000      NaN    56.000000        NaN         3.000000   \n",
            "max     2000.000000      NaN    69.000000        NaN         4.000000   \n",
            "\n",
            "       nivel_educacao estado_civil categoria categoria_cartao  tempo_cliente  \\\n",
            "count            2000         2000      2000             2000    2000.000000   \n",
            "unique              4            4         5                3            NaN   \n",
            "top             medio       casado         A             blue            NaN   \n",
            "freq              532          528       430              688            NaN   \n",
            "mean              NaN          NaN       NaN              NaN      10.316500   \n",
            "std               NaN          NaN       NaN              NaN       5.490665   \n",
            "min               NaN          NaN       NaN              NaN       1.000000   \n",
            "25%               NaN          NaN       NaN              NaN       6.000000   \n",
            "50%               NaN          NaN       NaN              NaN      10.000000   \n",
            "75%               NaN          NaN       NaN              NaN      15.000000   \n",
            "max               NaN          NaN       NaN              NaN      19.000000   \n",
            "\n",
            "        num_transacoes_6m        salario  valor_total_mensal_entrada  \\\n",
            "count         2000.000000    2000.000000                 2000.000000   \n",
            "unique                NaN            NaN                         NaN   \n",
            "top                   NaN            NaN                         NaN   \n",
            "freq                  NaN            NaN                         NaN   \n",
            "mean            48.599000   84257.700500                 5472.377500   \n",
            "std             29.000633   37866.726977                 2622.752938   \n",
            "min              0.000000   20042.000000                 1001.000000   \n",
            "25%             23.000000   51293.750000                 3188.750000   \n",
            "50%             49.000000   83899.500000                 5513.500000   \n",
            "75%             73.000000  116741.750000                 7702.000000   \n",
            "max             99.000000  149878.000000                 9998.000000   \n",
            "\n",
            "        valor_total_mensal_saida  creditos_passados  \\\n",
            "count                2000.000000        2000.000000   \n",
            "unique                       NaN                NaN   \n",
            "top                          NaN                NaN   \n",
            "freq                         NaN                NaN   \n",
            "mean                 5555.603000           4.365500   \n",
            "std                  2640.623502           2.841469   \n",
            "min                  1001.000000           0.000000   \n",
            "25%                  3209.000000           2.000000   \n",
            "50%                  5557.500000           4.000000   \n",
            "75%                  7838.500000           7.000000   \n",
            "max                  9998.000000           9.000000   \n",
            "\n",
            "        valor_atual_cartao_credito  valor_disponivel_credito_grande  \n",
            "count                    2000.0000                      2000.000000  \n",
            "unique                         NaN                              NaN  \n",
            "top                            NaN                              NaN  \n",
            "freq                           NaN                              NaN  \n",
            "mean                    10308.3835                     29931.249000  \n",
            "std                      5615.6623                     11357.030188  \n",
            "min                       503.0000                     10002.000000  \n",
            "25%                      5296.7500                     20229.250000  \n",
            "50%                     10436.0000                     30085.000000  \n",
            "75%                     15091.2500                     39575.500000  \n",
            "max                     19994.0000                     49939.000000  \n"
          ]
        }
      ]
    },
    {
      "cell_type": "code",
      "source": [
        "# Mostrar los nombres de las columnas del DataFrame\n",
        "print(df.columns)\n"
      ],
      "metadata": {
        "colab": {
          "base_uri": "https://localhost:8080/"
        },
        "id": "0JjCvJoawx0l",
        "outputId": "c49a2011-7062-48f6-c949-3e6276c6a862"
      },
      "execution_count": 64,
      "outputs": [
        {
          "output_type": "stream",
          "name": "stdout",
          "text": [
            "Index(['id_cliente', 'status', 'idade', 'genero', 'num_dependentes',\n",
            "       'nivel_educacao', 'estado_civil', 'categoria', 'categoria_cartao',\n",
            "       'tempo_cliente', 'num_transacoes_6m', 'salario',\n",
            "       'valor_total_mensal_entrada', 'valor_total_mensal_saida',\n",
            "       'creditos_passados', 'valor_atual_cartao_credito',\n",
            "       'valor_disponivel_credito_grande'],\n",
            "      dtype='object')\n"
          ]
        }
      ]
    },
    {
      "cell_type": "code",
      "source": [
        "# Codificar variables categóricas\n",
        "df = pd.get_dummies(df, columns=['status', 'genero', 'estado_civil', 'categoria', 'categoria_cartao','nivel_educacao'], drop_first=True)\n",
        "print(\"Valores nulos después de la limpieza:\")\n",
        "# Verificar valores nulos\n",
        "print(df.isnull().sum())\n",
        "#colocamos las variables categoricas aqui para pasarlas a dummies y asi poder hacer un analisis con todos los numeros\n"
      ],
      "metadata": {
        "colab": {
          "base_uri": "https://localhost:8080/"
        },
        "id": "X2NMETD3Xcph",
        "outputId": "1e929da7-50fb-4592-8047-1f3682286d39"
      },
      "execution_count": 65,
      "outputs": [
        {
          "output_type": "stream",
          "name": "stdout",
          "text": [
            "Valores nulos después de la limpieza:\n",
            "id_cliente                         0\n",
            "idade                              0\n",
            "num_dependentes                    0\n",
            "tempo_cliente                      0\n",
            "num_transacoes_6m                  0\n",
            "salario                            0\n",
            "valor_total_mensal_entrada         0\n",
            "valor_total_mensal_saida           0\n",
            "creditos_passados                  0\n",
            "valor_atual_cartao_credito         0\n",
            "valor_disponivel_credito_grande    0\n",
            "status_vigente                     0\n",
            "genero_masculino                   0\n",
            "estado_civil_divorciado            0\n",
            "estado_civil_solteiro              0\n",
            "estado_civil_viuvo                 0\n",
            "categoria_B                        0\n",
            "categoria_C                        0\n",
            "categoria_D                        0\n",
            "categoria_E                        0\n",
            "categoria_cartao_blue              0\n",
            "categoria_cartao_platinum          0\n",
            "nivel_educacao_medio               0\n",
            "nivel_educacao_pos-graduacao       0\n",
            "nivel_educacao_superior            0\n",
            "dtype: int64\n"
          ]
        }
      ]
    },
    {
      "cell_type": "code",
      "source": [
        "'''\n",
        "# Paso 4: Llenar valores nulos restantes en las columnas numéricas\n",
        "df = df.fillna(df.mean())\n",
        "'''"
      ],
      "metadata": {
        "id": "RHoxhtX5TrZ-"
      },
      "execution_count": null,
      "outputs": []
    },
    {
      "cell_type": "code",
      "source": [
        "# Asegurarse de que todas las columnas categóricas han sido convertidas\n",
        "print(\"Columnas después de la conversión de variables dummy:\")\n",
        "print(df.columns)"
      ],
      "metadata": {
        "colab": {
          "base_uri": "https://localhost:8080/"
        },
        "id": "pfmGrT0kQSaG",
        "outputId": "75d842f9-91f4-439b-d1b6-93698a1bae20"
      },
      "execution_count": 66,
      "outputs": [
        {
          "output_type": "stream",
          "name": "stdout",
          "text": [
            "Columnas después de la conversión de variables dummy:\n",
            "Index(['id_cliente', 'idade', 'num_dependentes', 'tempo_cliente',\n",
            "       'num_transacoes_6m', 'salario', 'valor_total_mensal_entrada',\n",
            "       'valor_total_mensal_saida', 'creditos_passados',\n",
            "       'valor_atual_cartao_credito', 'valor_disponivel_credito_grande',\n",
            "       'status_vigente', 'genero_masculino', 'estado_civil_divorciado',\n",
            "       'estado_civil_solteiro', 'estado_civil_viuvo', 'categoria_B',\n",
            "       'categoria_C', 'categoria_D', 'categoria_E', 'categoria_cartao_blue',\n",
            "       'categoria_cartao_platinum', 'nivel_educacao_medio',\n",
            "       'nivel_educacao_pos-graduacao', 'nivel_educacao_superior'],\n",
            "      dtype='object')\n"
          ]
        }
      ]
    },
    {
      "cell_type": "code",
      "source": [
        "from sklearn.model_selection import train_test_split\n",
        "from sklearn.linear_model import LinearRegression\n",
        "from sklearn.metrics import mean_squared_error, r2_score"
      ],
      "metadata": {
        "id": "DkRIo503zey5"
      },
      "execution_count": 67,
      "outputs": []
    },
    {
      "cell_type": "code",
      "source": [
        "# Seleccionar características y objetivo\n",
        "X = df.drop(['id_cliente', 'valor_atual_cartao_credito'], axis=1)\n",
        "y = df['valor_atual_cartao_credito']"
      ],
      "metadata": {
        "id": "KDI3b1m1CYzL"
      },
      "execution_count": 68,
      "outputs": []
    },
    {
      "cell_type": "code",
      "source": [
        "# Dividir los datos en entrenamiento y prueba\n",
        "X_train, X_test, y_train, y_test = train_test_split(X, y, test_size=0.2, random_state=42)\n",
        "\n",
        "# Crear el modelo de regresión lineal\n",
        "model = LinearRegression()"
      ],
      "metadata": {
        "id": "rFVhoLrMNfoI"
      },
      "execution_count": 69,
      "outputs": []
    },
    {
      "cell_type": "code",
      "source": [
        "# Entrenar el modelo\n",
        "model.fit(X_train, y_train)"
      ],
      "metadata": {
        "colab": {
          "base_uri": "https://localhost:8080/",
          "height": 52
        },
        "id": "CFrswhLFNil5",
        "outputId": "30999422-f16b-4c3d-c5b8-40c54534dfbb"
      },
      "execution_count": 70,
      "outputs": [
        {
          "output_type": "execute_result",
          "data": {
            "text/plain": [
              "LinearRegression()"
            ],
            "text/html": [
              "<style>#sk-container-id-1 {color: black;background-color: white;}#sk-container-id-1 pre{padding: 0;}#sk-container-id-1 div.sk-toggleable {background-color: white;}#sk-container-id-1 label.sk-toggleable__label {cursor: pointer;display: block;width: 100%;margin-bottom: 0;padding: 0.3em;box-sizing: border-box;text-align: center;}#sk-container-id-1 label.sk-toggleable__label-arrow:before {content: \"▸\";float: left;margin-right: 0.25em;color: #696969;}#sk-container-id-1 label.sk-toggleable__label-arrow:hover:before {color: black;}#sk-container-id-1 div.sk-estimator:hover label.sk-toggleable__label-arrow:before {color: black;}#sk-container-id-1 div.sk-toggleable__content {max-height: 0;max-width: 0;overflow: hidden;text-align: left;background-color: #f0f8ff;}#sk-container-id-1 div.sk-toggleable__content pre {margin: 0.2em;color: black;border-radius: 0.25em;background-color: #f0f8ff;}#sk-container-id-1 input.sk-toggleable__control:checked~div.sk-toggleable__content {max-height: 200px;max-width: 100%;overflow: auto;}#sk-container-id-1 input.sk-toggleable__control:checked~label.sk-toggleable__label-arrow:before {content: \"▾\";}#sk-container-id-1 div.sk-estimator input.sk-toggleable__control:checked~label.sk-toggleable__label {background-color: #d4ebff;}#sk-container-id-1 div.sk-label input.sk-toggleable__control:checked~label.sk-toggleable__label {background-color: #d4ebff;}#sk-container-id-1 input.sk-hidden--visually {border: 0;clip: rect(1px 1px 1px 1px);clip: rect(1px, 1px, 1px, 1px);height: 1px;margin: -1px;overflow: hidden;padding: 0;position: absolute;width: 1px;}#sk-container-id-1 div.sk-estimator {font-family: monospace;background-color: #f0f8ff;border: 1px dotted black;border-radius: 0.25em;box-sizing: border-box;margin-bottom: 0.5em;}#sk-container-id-1 div.sk-estimator:hover {background-color: #d4ebff;}#sk-container-id-1 div.sk-parallel-item::after {content: \"\";width: 100%;border-bottom: 1px solid gray;flex-grow: 1;}#sk-container-id-1 div.sk-label:hover label.sk-toggleable__label {background-color: #d4ebff;}#sk-container-id-1 div.sk-serial::before {content: \"\";position: absolute;border-left: 1px solid gray;box-sizing: border-box;top: 0;bottom: 0;left: 50%;z-index: 0;}#sk-container-id-1 div.sk-serial {display: flex;flex-direction: column;align-items: center;background-color: white;padding-right: 0.2em;padding-left: 0.2em;position: relative;}#sk-container-id-1 div.sk-item {position: relative;z-index: 1;}#sk-container-id-1 div.sk-parallel {display: flex;align-items: stretch;justify-content: center;background-color: white;position: relative;}#sk-container-id-1 div.sk-item::before, #sk-container-id-1 div.sk-parallel-item::before {content: \"\";position: absolute;border-left: 1px solid gray;box-sizing: border-box;top: 0;bottom: 0;left: 50%;z-index: -1;}#sk-container-id-1 div.sk-parallel-item {display: flex;flex-direction: column;z-index: 1;position: relative;background-color: white;}#sk-container-id-1 div.sk-parallel-item:first-child::after {align-self: flex-end;width: 50%;}#sk-container-id-1 div.sk-parallel-item:last-child::after {align-self: flex-start;width: 50%;}#sk-container-id-1 div.sk-parallel-item:only-child::after {width: 0;}#sk-container-id-1 div.sk-dashed-wrapped {border: 1px dashed gray;margin: 0 0.4em 0.5em 0.4em;box-sizing: border-box;padding-bottom: 0.4em;background-color: white;}#sk-container-id-1 div.sk-label label {font-family: monospace;font-weight: bold;display: inline-block;line-height: 1.2em;}#sk-container-id-1 div.sk-label-container {text-align: center;}#sk-container-id-1 div.sk-container {/* jupyter's `normalize.less` sets `[hidden] { display: none; }` but bootstrap.min.css set `[hidden] { display: none !important; }` so we also need the `!important` here to be able to override the default hidden behavior on the sphinx rendered scikit-learn.org. See: https://github.com/scikit-learn/scikit-learn/issues/21755 */display: inline-block !important;position: relative;}#sk-container-id-1 div.sk-text-repr-fallback {display: none;}</style><div id=\"sk-container-id-1\" class=\"sk-top-container\"><div class=\"sk-text-repr-fallback\"><pre>LinearRegression()</pre><b>In a Jupyter environment, please rerun this cell to show the HTML representation or trust the notebook. <br />On GitHub, the HTML representation is unable to render, please try loading this page with nbviewer.org.</b></div><div class=\"sk-container\" hidden><div class=\"sk-item\"><div class=\"sk-estimator sk-toggleable\"><input class=\"sk-toggleable__control sk-hidden--visually\" id=\"sk-estimator-id-1\" type=\"checkbox\" checked><label for=\"sk-estimator-id-1\" class=\"sk-toggleable__label sk-toggleable__label-arrow\">LinearRegression</label><div class=\"sk-toggleable__content\"><pre>LinearRegression()</pre></div></div></div></div></div>"
            ]
          },
          "metadata": {},
          "execution_count": 70
        }
      ]
    },
    {
      "cell_type": "code",
      "source": [
        "# Hacer predicciones en el conjunto de prueba\n",
        "y_pred = model.predict(X_test)\n",
        "\n"
      ],
      "metadata": {
        "id": "Pj6Pr-EhUFBS"
      },
      "execution_count": 71,
      "outputs": []
    },
    {
      "cell_type": "code",
      "source": [
        "# Calcular métricas de evaluación\n",
        "mse = mean_squared_error(y_test, y_pred)\n",
        "r2 = r2_score(y_test, y_pred)\n",
        "\n",
        "print(f'Mean Squared Error: {mse}')\n",
        "print(f'R-squared: {r2}')"
      ],
      "metadata": {
        "colab": {
          "base_uri": "https://localhost:8080/"
        },
        "id": "_Dqem8XEUIh_",
        "outputId": "d5e3f9bd-b364-4f90-e286-4cdc369434ae"
      },
      "execution_count": 72,
      "outputs": [
        {
          "output_type": "stream",
          "name": "stdout",
          "text": [
            "Mean Squared Error: 30848011.526797783\n",
            "R-squared: 0.005287731747993796\n"
          ]
        }
      ]
    },
    {
      "cell_type": "markdown",
      "source": [
        "# funçao\n"
      ],
      "metadata": {
        "id": "Y1K7hVyuVAAQ"
      }
    },
    {
      "cell_type": "code",
      "source": [
        "def predict_and_save_new_data(new_data, model, output_file='predicciones.xlsx'):\n",
        "    # Preprocesar nuevos datos de la misma forma que los datos de entrenamiento\n",
        "    new_data[categorical_columns] = new_data[categorical_columns].fillna('desconocido')\n",
        "    new_data = pd.get_dummies(new_data, columns=categorical_columns, drop_first=True)\n",
        "    new_data = new_data.fillna(df.mean())\n",
        "\n",
        "    # Asegurarse de que las columnas coincidan\n",
        "    missing_cols = set(X.columns) - set(new_data.columns)\n",
        "    for col in missing_cols:\n",
        "        new_data[col] = 0\n",
        "    new_data = new_data[X.columns]\n",
        "\n",
        "    # Hacer predicciones\n",
        "    predicciones = model.predict(new_data)\n",
        "\n",
        "    # Crear un dataframe de resultados\n",
        "    resultados = new_data.copy()\n",
        "    resultados['prediccion_valor_disponivel_credito'] = predicciones\n",
        "\n",
        "    # Guardar los resultados en un archivo Excel\n",
        "    resultados.to_excel(output_file, index=False)\n",
        "    print(f'Resultados guardados en {output_file}')"
      ],
      "metadata": {
        "id": "VZ2LpVpEVDvl"
      },
      "execution_count": null,
      "outputs": []
    },
    {
      "cell_type": "code",
      "source": [
        "# aqui colocamos los datos nuevo para que sean tratados\n",
        "new_data = pd.read_csv('/path/to/new_data.csv')\n",
        "predict_and_save_new_data(new_data, model)"
      ],
      "metadata": {
        "id": "L4xBsZHRVFqf"
      },
      "execution_count": null,
      "outputs": []
    },
    {
      "cell_type": "code",
      "source": [
        "#ahora podemos incluir nuevos datos para definir nuestro valor de saldo pequeno de credito(tarjeta) o credito mayor como um prestamo mas grande\n",
        "#recuerda tener los datos iguales a los del entreno y que falte esa variable target"
      ],
      "metadata": {
        "id": "I_5LKJQdWue2"
      },
      "execution_count": null,
      "outputs": []
    }
  ]
}