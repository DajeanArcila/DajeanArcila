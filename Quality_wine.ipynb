{
  "nbformat": 4,
  "nbformat_minor": 0,
  "metadata": {
    "colab": {
      "provenance": [],
      "authorship_tag": "ABX9TyMWlgL6VJvAYd/xpOUG0ADs",
      "include_colab_link": true
    },
    "kernelspec": {
      "name": "python3",
      "display_name": "Python 3"
    },
    "language_info": {
      "name": "python"
    }
  },
  "cells": [
    {
      "cell_type": "markdown",
      "metadata": {
        "id": "view-in-github",
        "colab_type": "text"
      },
      "source": [
        "<a href=\"https://colab.research.google.com/github/DajeanArcila/DajeanArcila/blob/main/Quality_wine.ipynb\" target=\"_parent\"><img src=\"https://colab.research.google.com/assets/colab-badge.svg\" alt=\"Open In Colab\"/></a>"
      ]
    },
    {
      "cell_type": "code",
      "execution_count": 1,
      "metadata": {
        "id": "d0o_X6PmreKu"
      },
      "outputs": [],
      "source": [
        "import pandas as pd\n",
        "from sklearn.model_selection import train_test_split\n",
        "from sklearn.tree import DecisionTreeClassifier\n",
        "from sklearn.metrics import classification_report, confusion_matrix\n",
        "import matplotlib.pyplot as plt\n",
        "\n"
      ]
    },
    {
      "cell_type": "code",
      "source": [
        "# Cargar el dataset\n",
        "url = \"https://archive.ics.uci.edu/ml/machine-learning-databases/wine-quality/winequality-red.csv\"\n",
        "data = pd.read_csv(url, sep=';')"
      ],
      "metadata": {
        "id": "y3ObxsxduvrS"
      },
      "execution_count": 2,
      "outputs": []
    },
    {
      "cell_type": "code",
      "source": [
        "# Exploración de datos\n",
        "print(data.head())\n",
        "\n",
        "\n"
      ],
      "metadata": {
        "colab": {
          "base_uri": "https://localhost:8080/"
        },
        "id": "xsDBaXAYrrzw",
        "outputId": "1d918d7f-8601-40c2-8c54-4de980d73ae9"
      },
      "execution_count": 3,
      "outputs": [
        {
          "output_type": "stream",
          "name": "stdout",
          "text": [
            "   fixed acidity  volatile acidity  citric acid  residual sugar  chlorides  \\\n",
            "0            7.4              0.70         0.00             1.9      0.076   \n",
            "1            7.8              0.88         0.00             2.6      0.098   \n",
            "2            7.8              0.76         0.04             2.3      0.092   \n",
            "3           11.2              0.28         0.56             1.9      0.075   \n",
            "4            7.4              0.70         0.00             1.9      0.076   \n",
            "\n",
            "   free sulfur dioxide  total sulfur dioxide  density    pH  sulphates  \\\n",
            "0                 11.0                  34.0   0.9978  3.51       0.56   \n",
            "1                 25.0                  67.0   0.9968  3.20       0.68   \n",
            "2                 15.0                  54.0   0.9970  3.26       0.65   \n",
            "3                 17.0                  60.0   0.9980  3.16       0.58   \n",
            "4                 11.0                  34.0   0.9978  3.51       0.56   \n",
            "\n",
            "   alcohol  quality  \n",
            "0      9.4        5  \n",
            "1      9.8        5  \n",
            "2      9.8        5  \n",
            "3      9.8        6  \n",
            "4      9.4        5  \n"
          ]
        }
      ]
    },
    {
      "cell_type": "code",
      "source": [
        "data.info()"
      ],
      "metadata": {
        "colab": {
          "base_uri": "https://localhost:8080/"
        },
        "id": "6FxO78KZrxhx",
        "outputId": "3b0ee23e-6204-40b6-b3f2-9d22e9a10eaa"
      },
      "execution_count": 4,
      "outputs": [
        {
          "output_type": "stream",
          "name": "stdout",
          "text": [
            "<class 'pandas.core.frame.DataFrame'>\n",
            "RangeIndex: 1599 entries, 0 to 1598\n",
            "Data columns (total 12 columns):\n",
            " #   Column                Non-Null Count  Dtype  \n",
            "---  ------                --------------  -----  \n",
            " 0   fixed acidity         1599 non-null   float64\n",
            " 1   volatile acidity      1599 non-null   float64\n",
            " 2   citric acid           1599 non-null   float64\n",
            " 3   residual sugar        1599 non-null   float64\n",
            " 4   chlorides             1599 non-null   float64\n",
            " 5   free sulfur dioxide   1599 non-null   float64\n",
            " 6   total sulfur dioxide  1599 non-null   float64\n",
            " 7   density               1599 non-null   float64\n",
            " 8   pH                    1599 non-null   float64\n",
            " 9   sulphates             1599 non-null   float64\n",
            " 10  alcohol               1599 non-null   float64\n",
            " 11  quality               1599 non-null   int64  \n",
            "dtypes: float64(11), int64(1)\n",
            "memory usage: 150.0 KB\n"
          ]
        }
      ]
    },
    {
      "cell_type": "code",
      "source": [
        "print(data.describe())"
      ],
      "metadata": {
        "colab": {
          "base_uri": "https://localhost:8080/"
        },
        "id": "PMUW68Y_rt6_",
        "outputId": "237d91d3-c9f6-46f2-e39e-18747f4274fb"
      },
      "execution_count": 5,
      "outputs": [
        {
          "output_type": "stream",
          "name": "stdout",
          "text": [
            "       fixed acidity  volatile acidity  citric acid  residual sugar  \\\n",
            "count    1599.000000       1599.000000  1599.000000     1599.000000   \n",
            "mean        8.319637          0.527821     0.270976        2.538806   \n",
            "std         1.741096          0.179060     0.194801        1.409928   \n",
            "min         4.600000          0.120000     0.000000        0.900000   \n",
            "25%         7.100000          0.390000     0.090000        1.900000   \n",
            "50%         7.900000          0.520000     0.260000        2.200000   \n",
            "75%         9.200000          0.640000     0.420000        2.600000   \n",
            "max        15.900000          1.580000     1.000000       15.500000   \n",
            "\n",
            "         chlorides  free sulfur dioxide  total sulfur dioxide      density  \\\n",
            "count  1599.000000          1599.000000           1599.000000  1599.000000   \n",
            "mean      0.087467            15.874922             46.467792     0.996747   \n",
            "std       0.047065            10.460157             32.895324     0.001887   \n",
            "min       0.012000             1.000000              6.000000     0.990070   \n",
            "25%       0.070000             7.000000             22.000000     0.995600   \n",
            "50%       0.079000            14.000000             38.000000     0.996750   \n",
            "75%       0.090000            21.000000             62.000000     0.997835   \n",
            "max       0.611000            72.000000            289.000000     1.003690   \n",
            "\n",
            "                pH    sulphates      alcohol      quality  \n",
            "count  1599.000000  1599.000000  1599.000000  1599.000000  \n",
            "mean      3.311113     0.658149    10.422983     5.636023  \n",
            "std       0.154386     0.169507     1.065668     0.807569  \n",
            "min       2.740000     0.330000     8.400000     3.000000  \n",
            "25%       3.210000     0.550000     9.500000     5.000000  \n",
            "50%       3.310000     0.620000    10.200000     6.000000  \n",
            "75%       3.400000     0.730000    11.100000     6.000000  \n",
            "max       4.010000     2.000000    14.900000     8.000000  \n"
          ]
        }
      ]
    },
    {
      "cell_type": "code",
      "source": [
        "# Preprocesamiento\n",
        "# Verificar valores nulos\n",
        "#print(data.isnull().sum())"
      ],
      "metadata": {
        "id": "Z5boBxz0rs4_"
      },
      "execution_count": 6,
      "outputs": []
    },
    {
      "cell_type": "code",
      "source": [
        "# Convertir la calidad en una variable categórica\n",
        "data['quality'] = data['quality'].astype('category')\n"
      ],
      "metadata": {
        "id": "E8dLbA6Ur3GH"
      },
      "execution_count": 7,
      "outputs": []
    },
    {
      "cell_type": "code",
      "source": [
        "# Dividir el dataset en características (X) y la variable objetivo (y)\n",
        "X = data.drop('quality', axis=1)\n",
        "y = data['quality']"
      ],
      "metadata": {
        "id": "KLYjzWUjwF1m"
      },
      "execution_count": 8,
      "outputs": []
    },
    {
      "cell_type": "code",
      "source": [
        "# Dividir el dataset en conjuntos de entrenamiento y prueba\n",
        "X_train, X_test, y_train, y_test = train_test_split(X, y, test_size=0.2, random_state=42)"
      ],
      "metadata": {
        "id": "OEGETNLywJst"
      },
      "execution_count": 9,
      "outputs": []
    },
    {
      "cell_type": "code",
      "source": [
        "# Entrenar el modelo de árbol de decisión\n",
        "model = DecisionTreeClassifier(random_state=42)\n",
        "model.fit(X_train, y_train)"
      ],
      "metadata": {
        "colab": {
          "base_uri": "https://localhost:8080/",
          "height": 75
        },
        "id": "9mRaIY5XwPqv",
        "outputId": "ef0c1b64-b1ad-4601-fe63-ee84be6a47b0"
      },
      "execution_count": 10,
      "outputs": [
        {
          "output_type": "execute_result",
          "data": {
            "text/plain": [
              "DecisionTreeClassifier(random_state=42)"
            ],
            "text/html": [
              "<style>#sk-container-id-1 {color: black;background-color: white;}#sk-container-id-1 pre{padding: 0;}#sk-container-id-1 div.sk-toggleable {background-color: white;}#sk-container-id-1 label.sk-toggleable__label {cursor: pointer;display: block;width: 100%;margin-bottom: 0;padding: 0.3em;box-sizing: border-box;text-align: center;}#sk-container-id-1 label.sk-toggleable__label-arrow:before {content: \"▸\";float: left;margin-right: 0.25em;color: #696969;}#sk-container-id-1 label.sk-toggleable__label-arrow:hover:before {color: black;}#sk-container-id-1 div.sk-estimator:hover label.sk-toggleable__label-arrow:before {color: black;}#sk-container-id-1 div.sk-toggleable__content {max-height: 0;max-width: 0;overflow: hidden;text-align: left;background-color: #f0f8ff;}#sk-container-id-1 div.sk-toggleable__content pre {margin: 0.2em;color: black;border-radius: 0.25em;background-color: #f0f8ff;}#sk-container-id-1 input.sk-toggleable__control:checked~div.sk-toggleable__content {max-height: 200px;max-width: 100%;overflow: auto;}#sk-container-id-1 input.sk-toggleable__control:checked~label.sk-toggleable__label-arrow:before {content: \"▾\";}#sk-container-id-1 div.sk-estimator input.sk-toggleable__control:checked~label.sk-toggleable__label {background-color: #d4ebff;}#sk-container-id-1 div.sk-label input.sk-toggleable__control:checked~label.sk-toggleable__label {background-color: #d4ebff;}#sk-container-id-1 input.sk-hidden--visually {border: 0;clip: rect(1px 1px 1px 1px);clip: rect(1px, 1px, 1px, 1px);height: 1px;margin: -1px;overflow: hidden;padding: 0;position: absolute;width: 1px;}#sk-container-id-1 div.sk-estimator {font-family: monospace;background-color: #f0f8ff;border: 1px dotted black;border-radius: 0.25em;box-sizing: border-box;margin-bottom: 0.5em;}#sk-container-id-1 div.sk-estimator:hover {background-color: #d4ebff;}#sk-container-id-1 div.sk-parallel-item::after {content: \"\";width: 100%;border-bottom: 1px solid gray;flex-grow: 1;}#sk-container-id-1 div.sk-label:hover label.sk-toggleable__label {background-color: #d4ebff;}#sk-container-id-1 div.sk-serial::before {content: \"\";position: absolute;border-left: 1px solid gray;box-sizing: border-box;top: 0;bottom: 0;left: 50%;z-index: 0;}#sk-container-id-1 div.sk-serial {display: flex;flex-direction: column;align-items: center;background-color: white;padding-right: 0.2em;padding-left: 0.2em;position: relative;}#sk-container-id-1 div.sk-item {position: relative;z-index: 1;}#sk-container-id-1 div.sk-parallel {display: flex;align-items: stretch;justify-content: center;background-color: white;position: relative;}#sk-container-id-1 div.sk-item::before, #sk-container-id-1 div.sk-parallel-item::before {content: \"\";position: absolute;border-left: 1px solid gray;box-sizing: border-box;top: 0;bottom: 0;left: 50%;z-index: -1;}#sk-container-id-1 div.sk-parallel-item {display: flex;flex-direction: column;z-index: 1;position: relative;background-color: white;}#sk-container-id-1 div.sk-parallel-item:first-child::after {align-self: flex-end;width: 50%;}#sk-container-id-1 div.sk-parallel-item:last-child::after {align-self: flex-start;width: 50%;}#sk-container-id-1 div.sk-parallel-item:only-child::after {width: 0;}#sk-container-id-1 div.sk-dashed-wrapped {border: 1px dashed gray;margin: 0 0.4em 0.5em 0.4em;box-sizing: border-box;padding-bottom: 0.4em;background-color: white;}#sk-container-id-1 div.sk-label label {font-family: monospace;font-weight: bold;display: inline-block;line-height: 1.2em;}#sk-container-id-1 div.sk-label-container {text-align: center;}#sk-container-id-1 div.sk-container {/* jupyter's `normalize.less` sets `[hidden] { display: none; }` but bootstrap.min.css set `[hidden] { display: none !important; }` so we also need the `!important` here to be able to override the default hidden behavior on the sphinx rendered scikit-learn.org. See: https://github.com/scikit-learn/scikit-learn/issues/21755 */display: inline-block !important;position: relative;}#sk-container-id-1 div.sk-text-repr-fallback {display: none;}</style><div id=\"sk-container-id-1\" class=\"sk-top-container\"><div class=\"sk-text-repr-fallback\"><pre>DecisionTreeClassifier(random_state=42)</pre><b>In a Jupyter environment, please rerun this cell to show the HTML representation or trust the notebook. <br />On GitHub, the HTML representation is unable to render, please try loading this page with nbviewer.org.</b></div><div class=\"sk-container\" hidden><div class=\"sk-item\"><div class=\"sk-estimator sk-toggleable\"><input class=\"sk-toggleable__control sk-hidden--visually\" id=\"sk-estimator-id-1\" type=\"checkbox\" checked><label for=\"sk-estimator-id-1\" class=\"sk-toggleable__label sk-toggleable__label-arrow\">DecisionTreeClassifier</label><div class=\"sk-toggleable__content\"><pre>DecisionTreeClassifier(random_state=42)</pre></div></div></div></div></div>"
            ]
          },
          "metadata": {},
          "execution_count": 10
        }
      ]
    },
    {
      "cell_type": "code",
      "source": [
        "# Realizar predicciones\n",
        "y_pred = model.predict(X_test)"
      ],
      "metadata": {
        "id": "90hGDwyZwSMm"
      },
      "execution_count": 11,
      "outputs": []
    },
    {
      "cell_type": "code",
      "source": [
        "\n",
        "# Evaluar el modelo\n",
        "print(\"Confusion Matrix:\\n\", confusion_matrix(y_test, y_pred))\n",
        "print(\"\\nClassification Report:\\n\", classification_report(y_test, y_pred))"
      ],
      "metadata": {
        "colab": {
          "base_uri": "https://localhost:8080/"
        },
        "id": "Rt5bz5SAwWkZ",
        "outputId": "16eaa7b1-c7d5-4f12-ec82-aea21f853360"
      },
      "execution_count": 12,
      "outputs": [
        {
          "output_type": "stream",
          "name": "stdout",
          "text": [
            "Confusion Matrix:\n",
            " [[ 0  0  0  1  0  0]\n",
            " [ 0  0  5  5  0  0]\n",
            " [ 1  4 88 35  2  0]\n",
            " [ 0  3 40 70 17  2]\n",
            " [ 0  1  5 14 21  1]\n",
            " [ 0  0  1  3  1  0]]\n",
            "\n",
            "Classification Report:\n",
            "               precision    recall  f1-score   support\n",
            "\n",
            "           3       0.00      0.00      0.00         1\n",
            "           4       0.00      0.00      0.00        10\n",
            "           5       0.63      0.68      0.65       130\n",
            "           6       0.55      0.53      0.54       132\n",
            "           7       0.51      0.50      0.51        42\n",
            "           8       0.00      0.00      0.00         5\n",
            "\n",
            "    accuracy                           0.56       320\n",
            "   macro avg       0.28      0.28      0.28       320\n",
            "weighted avg       0.55      0.56      0.55       320\n",
            "\n"
          ]
        }
      ]
    },
    {
      "cell_type": "code",
      "source": [
        "# Visualizar la importancia de las características\n",
        "feature_importances = model.feature_importances_\n",
        "features = X.columns\n",
        "indices = feature_importances.argsort()[::-1]"
      ],
      "metadata": {
        "id": "NjjBo49FwZu2"
      },
      "execution_count": 13,
      "outputs": []
    },
    {
      "cell_type": "code",
      "source": [
        "# Visualizar la importancia de las características\n",
        "def plot_feature_importances(model, features):\n",
        "    feature_importances = model.feature_importances_\n",
        "    indices = feature_importances.argsort()[::-1]\n",
        "\n",
        "    plt.figure(figsize=(12, 6))\n",
        "    plt.title(\"Importancia de las Características\")\n",
        "    plt.bar(range(len(features)), feature_importances[indices], align=\"center\")\n",
        "    plt.xticks(range(len(features)), features[indices], rotation=90)\n",
        "    plt.show()\n",
        "\n",
        "plot_feature_importances(model, X.columns)"
      ],
      "metadata": {
        "id": "G5vGkZO-xKlu",
        "outputId": "784f8452-b7c5-4d3a-a1ac-2764545e1c35",
        "colab": {
          "base_uri": "https://localhost:8080/",
          "height": 661
        }
      },
      "execution_count": 21,
      "outputs": [
        {
          "output_type": "display_data",
          "data": {
            "text/plain": [
              "<Figure size 1200x600 with 1 Axes>"
            ],
            "image/png": "[encoded data removed]"
          },
          "metadata": {}
        }
      ]
    },
    {
      "cell_type": "code",
      "source": [
        "# Función para predecir la calidad de nuevos datos desde un archivo\n",
        "def predict_wine_quality_from_file(file_path, model, file_type='csv'):\n",
        "    \"\"\"\n",
        "    Predice la calidad del vino basado en el modelo entrenado a partir de un archivo CSV o Excel.\n",
        "\n",
        "    Args:\n",
        "    file_path (str): Ruta del archivo CSV o Excel con los nuevos datos.\n",
        "    model (DecisionTreeClassifier): El modelo entrenado.\n",
        "    file_type (str): Tipo de archivo ('csv' o 'excel').\n",
        "\n",
        "    Returns:\n",
        "    DataFrame: Un DataFrame con las predicciones de calidad.\n",
        "    \"\"\"\n",
        "\n",
        "    '''\n",
        "    if file_type == 'csv':\n",
        "        new_data = pd.read_csv(file_path)\n",
        "    elif file_type == 'excel':\n",
        "        new_data = pd.read_excel(file_path)\n",
        "    else:\n",
        "        raise ValueError(\"El tipo de archivo debe ser 'csv' o 'excel'\")\n",
        "        '''\n",
        "    new_data= pd.read_csv('/content/new_wines.csv')\n",
        "    predictions = model.predict(new_data)\n",
        "    result = new_data.copy()\n",
        "    result['Predicted_Quality'] = predictions\n",
        "    return result"
      ],
      "metadata": {
        "id": "Tt-kLpKoxU4_"
      },
      "execution_count": 17,
      "outputs": []
    },
    {
      "cell_type": "code",
      "source": [
        "\n",
        "# Ejemplo de uso de la función con un archivo CSV\n",
        "# Guardar un ejemplo de archivo CSV para nuevos datos\n",
        "#new_wines.to_csv('new_wines.csv', index=False)\n"
      ],
      "metadata": {
        "id": "P0uMs2PKyEb1"
      },
      "execution_count": null,
      "outputs": []
    },
    {
      "cell_type": "code",
      "source": [
        "# Obtener predicciones para los nuevos datos desde el archivo CSV\n",
        "predictions_df = predict_wine_quality_from_file('new_wines.csv', model, file_type='csv')\n",
        "print(predictions_df)"
      ],
      "metadata": {
        "id": "-9Gcvz65yGUY",
        "outputId": "9305b028-623e-4d74-e882-8a1aee7eea93",
        "colab": {
          "base_uri": "https://localhost:8080/"
        }
      },
      "execution_count": 18,
      "outputs": [
        {
          "output_type": "stream",
          "name": "stdout",
          "text": [
            "   fixed acidity  volatile acidity  citric acid  residual sugar  chlorides  \\\n",
            "0            7.4              0.70         0.00             1.9      0.076   \n",
            "1            6.3              0.30         0.34             1.6      0.040   \n",
            "2            7.8              0.88         0.00             2.6      0.098   \n",
            "3            7.8              0.76         0.04             2.3      0.092   \n",
            "4           11.2              0.28         0.56             1.9      0.075   \n",
            "5            7.4              0.70         0.00             1.9      0.076   \n",
            "6            6.3              0.30         0.34             1.6      0.040   \n",
            "7            7.8              0.88         0.00             2.6      0.098   \n",
            "8            7.8              0.76         0.04             2.3      0.092   \n",
            "9           11.2              0.28         0.56             1.9      0.075   \n",
            "\n",
            "   free sulfur dioxide  total sulfur dioxide  density    pH  sulphates  \\\n",
            "0                 11.0                  34.0   0.9978  3.51       0.56   \n",
            "1                 17.0                  60.0   0.9920  3.30       0.72   \n",
            "2                 25.0                  67.0   0.9968  3.20       0.68   \n",
            "3                 15.0                  54.0   0.9970  3.26       0.65   \n",
            "4                 17.0                  60.0   0.9980  3.16       0.58   \n",
            "5                 11.0                  34.0   0.9978  3.51       0.56   \n",
            "6                 17.0                  60.0   0.9920  3.30       0.72   \n",
            "7                 25.0                  67.0   0.9968  3.20       0.68   \n",
            "8                 15.0                  54.0   0.9970  3.26       0.65   \n",
            "9                 17.0                  60.0   0.9980  3.16       0.58   \n",
            "\n",
            "   alcohol  Predicted_Quality  \n",
            "0      9.4                  5  \n",
            "1     12.8                  7  \n",
            "2      9.8                  5  \n",
            "3     10.0                  5  \n",
            "4      9.8                  6  \n",
            "5      9.4                  5  \n",
            "6     12.8                  7  \n",
            "7      9.8                  5  \n",
            "8     10.0                  5  \n",
            "9      9.8                  6  \n"
          ]
        }
      ]
    },
    {
      "cell_type": "code",
      "source": [
        "# Guardar las predicciones en un nuevo archivo CSV\n",
        "predictions_df.to_csv('predicted_wine_quality.csv', index=False)"
      ],
      "metadata": {
        "id": "1jJxzNZqyIVu"
      },
      "execution_count": 19,
      "outputs": []
    },
    {
      "cell_type": "code",
      "source": [
        "#ejemplo para usar con nuestro codigo sin nuestra variable target\n",
        "'''\n",
        "import pandas as pd\n",
        "\n",
        "# Crear el DataFrame\n",
        "data = {\n",
        "    'fixed acidity': [7.4, 6.3, 7.8, 7.8, 11.2, 7.4, 6.3, 7.8, 7.8, 11.2],\n",
        "    'volatile acidity': [0.70, 0.30, 0.88, 0.76, 0.28, 0.70, 0.30, 0.88, 0.76, 0.28],\n",
        "    'citric acid': [0.00, 0.34, 0.00, 0.04, 0.56, 0.00, 0.34, 0.00, 0.04, 0.56],\n",
        "    'residual sugar': [1.9, 1.6, 2.6, 2.3, 1.9, 1.9, 1.6, 2.6, 2.3, 1.9],\n",
        "    'chlorides': [0.076, 0.04, 0.098, 0.092, 0.075, 0.076, 0.04, 0.098, 0.092, 0.075],\n",
        "    'free sulfur dioxide': [11.0, 17.0, 25.0, 15.0, 17.0, 11.0, 17.0, 25.0, 15.0, 17.0],\n",
        "    'total sulfur dioxide': [34.0, 60.0, 67.0, 54.0, 60.0, 34.0, 60.0, 67.0, 54.0, 60.0],\n",
        "    'density': [0.9978, 0.9920, 0.9968, 0.9970, 0.9980, 0.9978, 0.9920, 0.9968, 0.9970, 0.9980],\n",
        "    'pH': [3.51, 3.30, 3.20, 3.26, 3.16, 3.51, 3.30, 3.20, 3.26, 3.16],\n",
        "    'sulphates': [0.56, 0.72, 0.68, 0.65, 0.58, 0.56, 0.72, 0.68, 0.65, 0.58],\n",
        "    'alcohol': [9.4, 12.8, 9.8, 10.0, 9.8, 9.4, 12.8, 9.8, 10.0, 9.8]\n",
        "}\n",
        "\n",
        "new_wines = pd.DataFrame(data)\n",
        "\n",
        "# Guardar el DataFrame en un archivo CSV\n",
        "new_wines.to_csv('new_wines.csv', index=False)\n",
        "'''"
      ],
      "metadata": {
        "id": "DiL6zIx104qc"
      },
      "execution_count": 16,
      "outputs": []
    },
    {
      "cell_type": "code",
      "source": [
        "#ejemplo de output de datos\n",
        "'''\n",
        "df= pd.read_csv('/content/predicted_wine_quality.csv')\n",
        "df.head()\n",
        "\n",
        "'''"
      ],
      "metadata": {
        "id": "L4eYapEc1N-M",
        "outputId": "f77bafdd-7b23-4b3c-eb7e-cc8d88e3a7b4",
        "colab": {
          "base_uri": "https://localhost:8080/",
          "height": 35
        }
      },
      "execution_count": 22,
      "outputs": [
        {
          "output_type": "execute_result",
          "data": {
            "text/plain": [
              "\"\\ndf= pd.read_csv('/content/predicted_wine_quality.csv')\\ndf.head()\\n\\n\""
            ],
            "application/vnd.google.colaboratory.intrinsic+json": {
              "type": "string"
            }
          },
          "metadata": {},
          "execution_count": 22
        }
      ]
    }
  ]
}