{
  "nbformat": 4,
  "nbformat_minor": 0,
  "metadata": {
    "colab": {
      "provenance": [],
      "toc_visible": true,
      "authorship_tag": "ABX9TyPFfWvcTtjQ9jMk6oAOMIWN",
      "include_colab_link": true
    },
    "kernelspec": {
      "name": "python3",
      "display_name": "Python 3"
    },
    "language_info": {
      "name": "python"
    }
  },
  "cells": [
    {
      "cell_type": "markdown",
      "metadata": {
        "id": "view-in-github",
        "colab_type": "text"
      },
      "source": [
        "<a href=\"https://colab.research.google.com/github/DajeanArcila/DajeanArcila/blob/main/Desafio_rotatividade_RRHH_clasifica%C3%A7ao.ipynb\" target=\"_parent\"><img src=\"https://colab.research.google.com/assets/colab-badge.svg\" alt=\"Open In Colab\"/></a>"
      ]
    },
    {
      "cell_type": "code",
      "execution_count": 56,
      "metadata": {
        "id": "hVAdHBAHQkA3"
      },
      "outputs": [],
      "source": [
        "import pandas as pd\n",
        "import seaborn as sns\n",
        "import matplotlib.pyplot as plt\n",
        "from sklearn.model_selection import train_test_split\n",
        "from sklearn.preprocessing import StandardScaler\n",
        "from sklearn.metrics import classification_report, confusion_matrix, accuracy_score\n",
        "\n",
        "# Cargar el dataset\n",
        "df = pd.read_excel(\"/content/Base_dados - Rotatividade RH (1).xlsx\")"
      ]
    },
    {
      "cell_type": "code",
      "source": [
        "# Inspección inicial\n",
        "print(df.head())\n"
      ],
      "metadata": {
        "colab": {
          "base_uri": "https://localhost:8080/"
        },
        "id": "TrANw_59AVYj",
        "outputId": "157de32a-b1b4-4de9-86ea-9c316d099857"
      },
      "execution_count": 57,
      "outputs": [
        {
          "output_type": "stream",
          "name": "stdout",
          "text": [
            "  Data_Contratacao Data_Desligamento  Meses_de_Servico  Idade  \\\n",
            "0       2024-02-14               NaT                 3     24   \n",
            "1       2023-11-16        2024-05-14                 6     43   \n",
            "2       2023-11-16               NaT                 6     45   \n",
            "3       2023-05-20               NaT                12     31   \n",
            "4       2022-07-24               NaT                22     37   \n",
            "\n",
            "   Pontuacao_Desempenho  Satisfacao_Trabalho Nivel_Cargo  Salario  \\\n",
            "0              2.066788             2.043644       Pleno  4994.41   \n",
            "1              3.256257             1.711719      Sênior  8798.34   \n",
            "2              4.827732             3.480214      Sênior  8891.02   \n",
            "3              1.453944             1.617558       Pleno  7606.22   \n",
            "4              2.088917             2.763390      Sênior  9236.03   \n",
            "\n",
            "   Horas_Extras  Desligamento  \n",
            "0     15.465241             0  \n",
            "1     19.036627             1  \n",
            "2     13.326408             0  \n",
            "3     14.209663             0  \n",
            "4     11.059687             0  \n"
          ]
        }
      ]
    },
    {
      "cell_type": "code",
      "source": [
        "print(df.describe())\n"
      ],
      "metadata": {
        "colab": {
          "base_uri": "https://localhost:8080/"
        },
        "id": "U8gtuci3O9PE",
        "outputId": "faef5081-237f-42a6-9ff1-1fc057413029"
      },
      "execution_count": 58,
      "outputs": [
        {
          "output_type": "stream",
          "name": "stdout",
          "text": [
            "                    Data_Contratacao    Data_Desligamento  Meses_de_Servico  \\\n",
            "count                            650                  144        650.000000   \n",
            "mean   2022-10-31 06:38:46.153846272  2024-05-14 00:00:00         18.690769   \n",
            "min              2021-06-29 00:00:00  2024-05-14 00:00:00          3.000000   \n",
            "25%              2022-02-24 00:00:00  2024-05-14 00:00:00         10.000000   \n",
            "50%              2022-10-22 00:00:00  2024-05-14 00:00:00         19.000000   \n",
            "75%              2023-07-19 00:00:00  2024-05-14 00:00:00         27.000000   \n",
            "max              2024-02-14 00:00:00  2024-05-14 00:00:00         35.000000   \n",
            "std                              NaN                  NaN          9.652262   \n",
            "\n",
            "            Idade  Pontuacao_Desempenho  Satisfacao_Trabalho       Salario  \\\n",
            "count  650.000000            650.000000           650.000000    650.000000   \n",
            "mean    28.349231              3.027463             2.940577   6131.587062   \n",
            "min     18.000000              1.000242             1.002868   2004.500000   \n",
            "25%     22.000000              1.988753             1.968571   4023.752500   \n",
            "50%     27.000000              3.058911             2.923458   5562.950000   \n",
            "75%     33.000000              4.022709             3.964356   7814.480000   \n",
            "max     49.000000              4.992102             4.999415  11957.290000   \n",
            "std      8.014983              1.174226             1.148514   2689.075566   \n",
            "\n",
            "       Horas_Extras  Desligamento  \n",
            "count    650.000000    650.000000  \n",
            "mean      10.098864      0.221538  \n",
            "min        0.003734      0.000000  \n",
            "25%        4.978000      0.000000  \n",
            "50%        9.413546      0.000000  \n",
            "75%       14.749310      0.000000  \n",
            "max       41.638350      1.000000  \n",
            "std        6.242406      0.415602  \n"
          ]
        }
      ]
    },
    {
      "cell_type": "code",
      "source": [
        "print(df.info())\n",
        "print(df.isnull().sum())"
      ],
      "metadata": {
        "colab": {
          "base_uri": "https://localhost:8080/"
        },
        "id": "EAC357isO-kz",
        "outputId": "2bd0cd2c-4427-4e18-f4a4-f8bfb14930af"
      },
      "execution_count": 59,
      "outputs": [
        {
          "output_type": "stream",
          "name": "stdout",
          "text": [
            "<class 'pandas.core.frame.DataFrame'>\n",
            "RangeIndex: 650 entries, 0 to 649\n",
            "Data columns (total 10 columns):\n",
            " #   Column                Non-Null Count  Dtype         \n",
            "---  ------                --------------  -----         \n",
            " 0   Data_Contratacao      650 non-null    datetime64[ns]\n",
            " 1   Data_Desligamento     144 non-null    datetime64[ns]\n",
            " 2   Meses_de_Servico      650 non-null    int64         \n",
            " 3   Idade                 650 non-null    int64         \n",
            " 4   Pontuacao_Desempenho  650 non-null    float64       \n",
            " 5   Satisfacao_Trabalho   650 non-null    float64       \n",
            " 6   Nivel_Cargo           650 non-null    object        \n",
            " 7   Salario               650 non-null    float64       \n",
            " 8   Horas_Extras          650 non-null    float64       \n",
            " 9   Desligamento          650 non-null    int64         \n",
            "dtypes: datetime64[ns](2), float64(4), int64(3), object(1)\n",
            "memory usage: 50.9+ KB\n",
            "None\n",
            "Data_Contratacao          0\n",
            "Data_Desligamento       506\n",
            "Meses_de_Servico          0\n",
            "Idade                     0\n",
            "Pontuacao_Desempenho      0\n",
            "Satisfacao_Trabalho       0\n",
            "Nivel_Cargo               0\n",
            "Salario                   0\n",
            "Horas_Extras              0\n",
            "Desligamento              0\n",
            "dtype: int64\n"
          ]
        }
      ]
    },
    {
      "cell_type": "code",
      "source": [
        "# Crear columna 'Desligado'\n",
        "df['Desligado'] = df['Data_Desligamento'].notnull().astype(int)\n",
        "\n",
        "# Eliminar columnas no necesarias\n",
        "df = df.drop(columns=['Data_Contratacao', 'Desligamento'])"
      ],
      "metadata": {
        "id": "7vQQXtdfPQyU"
      },
      "execution_count": 60,
      "outputs": []
    },
    {
      "cell_type": "code",
      "source": [
        "df.head()"
      ],
      "metadata": {
        "colab": {
          "base_uri": "https://localhost:8080/",
          "height": 206
        },
        "id": "Q2yOOfU4QVuq",
        "outputId": "51bab1ff-6f56-4fcc-a7fa-09daeb1ec14a"
      },
      "execution_count": 61,
      "outputs": [
        {
          "output_type": "execute_result",
          "data": {
            "text/plain": [
              "  Data_Desligamento  Meses_de_Servico  Idade  Pontuacao_Desempenho  \\\n",
              "0               NaT                 3     24              2.066788   \n",
              "1        2024-05-14                 6     43              3.256257   \n",
              "2               NaT                 6     45              4.827732   \n",
              "3               NaT                12     31              1.453944   \n",
              "4               NaT                22     37              2.088917   \n",
              "\n",
              "   Satisfacao_Trabalho Nivel_Cargo  Salario  Horas_Extras  Desligado  \n",
              "0             2.043644       Pleno  4994.41     15.465241          0  \n",
              "1             1.711719      Sênior  8798.34     19.036627          1  \n",
              "2             3.480214      Sênior  8891.02     13.326408          0  \n",
              "3             1.617558       Pleno  7606.22     14.209663          0  \n",
              "4             2.763390      Sênior  9236.03     11.059687          0  "
            ],
            "text/html": [
              "\n",
              "  <div id=\"df-a2cc3e0f-4aaa-45e2-a73c-b471a272541f\" class=\"colab-df-container\">\n",
              "    <div>\n",
              "<style scoped>\n",
              "    .dataframe tbody tr th:only-of-type {\n",
              "        vertical-align: middle;\n",
              "    }\n",
              "\n",
              "    .dataframe tbody tr th {\n",
              "        vertical-align: top;\n",
              "    }\n",
              "\n",
              "    .dataframe thead th {\n",
              "        text-align: right;\n",
              "    }\n",
              "</style>\n",
              "<table border=\"1\" class=\"dataframe\">\n",
              "  <thead>\n",
              "    <tr style=\"text-align: right;\">\n",
              "      <th></th>\n",
              "      <th>Data_Desligamento</th>\n",
              "      <th>Meses_de_Servico</th>\n",
              "      <th>Idade</th>\n",
              "      <th>Pontuacao_Desempenho</th>\n",
              "      <th>Satisfacao_Trabalho</th>\n",
              "      <th>Nivel_Cargo</th>\n",
              "      <th>Salario</th>\n",
              "      <th>Horas_Extras</th>\n",
              "      <th>Desligado</th>\n",
              "    </tr>\n",
              "  </thead>\n",
              "  <tbody>\n",
              "    <tr>\n",
              "      <th>0</th>\n",
              "      <td>NaT</td>\n",
              "      <td>3</td>\n",
              "      <td>24</td>\n",
              "      <td>2.066788</td>\n",
              "      <td>2.043644</td>\n",
              "      <td>Pleno</td>\n",
              "      <td>4994.41</td>\n",
              "      <td>15.465241</td>\n",
              "      <td>0</td>\n",
              "    </tr>\n",
              "    <tr>\n",
              "      <th>1</th>\n",
              "      <td>2024-05-14</td>\n",
              "      <td>6</td>\n",
              "      <td>43</td>\n",
              "      <td>3.256257</td>\n",
              "      <td>1.711719</td>\n",
              "      <td>Sênior</td>\n",
              "      <td>8798.34</td>\n",
              "      <td>19.036627</td>\n",
              "      <td>1</td>\n",
              "    </tr>\n",
              "    <tr>\n",
              "      <th>2</th>\n",
              "      <td>NaT</td>\n",
              "      <td>6</td>\n",
              "      <td>45</td>\n",
              "      <td>4.827732</td>\n",
              "      <td>3.480214</td>\n",
              "      <td>Sênior</td>\n",
              "      <td>8891.02</td>\n",
              "      <td>13.326408</td>\n",
              "      <td>0</td>\n",
              "    </tr>\n",
              "    <tr>\n",
              "      <th>3</th>\n",
              "      <td>NaT</td>\n",
              "      <td>12</td>\n",
              "      <td>31</td>\n",
              "      <td>1.453944</td>\n",
              "      <td>1.617558</td>\n",
              "      <td>Pleno</td>\n",
              "      <td>7606.22</td>\n",
              "      <td>14.209663</td>\n",
              "      <td>0</td>\n",
              "    </tr>\n",
              "    <tr>\n",
              "      <th>4</th>\n",
              "      <td>NaT</td>\n",
              "      <td>22</td>\n",
              "      <td>37</td>\n",
              "      <td>2.088917</td>\n",
              "      <td>2.763390</td>\n",
              "      <td>Sênior</td>\n",
              "      <td>9236.03</td>\n",
              "      <td>11.059687</td>\n",
              "      <td>0</td>\n",
              "    </tr>\n",
              "  </tbody>\n",
              "</table>\n",
              "</div>\n",
              "    <div class=\"colab-df-buttons\">\n",
              "\n",
              "  <div class=\"colab-df-container\">\n",
              "    <button class=\"colab-df-convert\" onclick=\"convertToInteractive('df-a2cc3e0f-4aaa-45e2-a73c-b471a272541f')\"\n",
              "            title=\"Convert this dataframe to an interactive table.\"\n",
              "            style=\"display:none;\">\n",
              "\n",
              "  <svg xmlns=\"http://www.w3.org/2000/svg\" height=\"24px\" viewBox=\"0 -960 960 960\">\n",
              "    <path d=\"M120-120v-720h720v720H120Zm60-500h600v-160H180v160Zm220 220h160v-160H400v160Zm0 220h160v-160H400v160ZM180-400h160v-160H180v160Zm440 0h160v-160H620v160ZM180-180h160v-160H180v160Zm440 0h160v-160H620v160Z\"/>\n",
              "  </svg>\n",
              "    </button>\n",
              "\n",
              "  <style>\n",
              "    .colab-df-container {\n",
              "      display:flex;\n",
              "      gap: 12px;\n",
              "    }\n",
              "\n",
              "    .colab-df-convert {\n",
              "      background-color: #E8F0FE;\n",
              "      border: none;\n",
              "      border-radius: 50%;\n",
              "      cursor: pointer;\n",
              "      display: none;\n",
              "      fill: #1967D2;\n",
              "      height: 32px;\n",
              "      padding: 0 0 0 0;\n",
              "      width: 32px;\n",
              "    }\n",
              "\n",
              "    .colab-df-convert:hover {\n",
              "      background-color: #E2EBFA;\n",
              "      box-shadow: 0px 1px 2px rgba(60, 64, 67, 0.3), 0px 1px 3px 1px rgba(60, 64, 67, 0.15);\n",
              "      fill: #174EA6;\n",
              "    }\n",
              "\n",
              "    .colab-df-buttons div {\n",
              "      margin-bottom: 4px;\n",
              "    }\n",
              "\n",
              "    [theme=dark] .colab-df-convert {\n",
              "      background-color: #3B4455;\n",
              "      fill: #D2E3FC;\n",
              "    }\n",
              "\n",
              "    [theme=dark] .colab-df-convert:hover {\n",
              "      background-color: #434B5C;\n",
              "      box-shadow: 0px 1px 3px 1px rgba(0, 0, 0, 0.15);\n",
              "      filter: drop-shadow(0px 1px 2px rgba(0, 0, 0, 0.3));\n",
              "      fill: #FFFFFF;\n",
              "    }\n",
              "  </style>\n",
              "\n",
              "    <script>\n",
              "      const buttonEl =\n",
              "        document.querySelector('#df-a2cc3e0f-4aaa-45e2-a73c-b471a272541f button.colab-df-convert');\n",
              "      buttonEl.style.display =\n",
              "        google.colab.kernel.accessAllowed ? 'block' : 'none';\n",
              "\n",
              "      async function convertToInteractive(key) {\n",
              "        const element = document.querySelector('#df-a2cc3e0f-4aaa-45e2-a73c-b471a272541f');\n",
              "        const dataTable =\n",
              "          await google.colab.kernel.invokeFunction('convertToInteractive',\n",
              "                                                    [key], {});\n",
              "        if (!dataTable) return;\n",
              "\n",
              "        const docLinkHtml = 'Like what you see? Visit the ' +\n",
              "          '<a target=\"_blank\" href=https://colab.research.google.com/notebooks/data_table.ipynb>data table notebook</a>'\n",
              "          + ' to learn more about interactive tables.';\n",
              "        element.innerHTML = '';\n",
              "        dataTable['output_type'] = 'display_data';\n",
              "        await google.colab.output.renderOutput(dataTable, element);\n",
              "        const docLink = document.createElement('div');\n",
              "        docLink.innerHTML = docLinkHtml;\n",
              "        element.appendChild(docLink);\n",
              "      }\n",
              "    </script>\n",
              "  </div>\n",
              "\n",
              "\n",
              "<div id=\"df-c3eafe98-4497-4e85-b8ae-1285f19f59d7\">\n",
              "  <button class=\"colab-df-quickchart\" onclick=\"quickchart('df-c3eafe98-4497-4e85-b8ae-1285f19f59d7')\"\n",
              "            title=\"Suggest charts\"\n",
              "            style=\"display:none;\">\n",
              "\n",
              "<svg xmlns=\"http://www.w3.org/2000/svg\" height=\"24px\"viewBox=\"0 0 24 24\"\n",
              "     width=\"24px\">\n",
              "    <g>\n",
              "        <path d=\"M19 3H5c-1.1 0-2 .9-2 2v14c0 1.1.9 2 2 2h14c1.1 0 2-.9 2-2V5c0-1.1-.9-2-2-2zM9 17H7v-7h2v7zm4 0h-2V7h2v10zm4 0h-2v-4h2v4z\"/>\n",
              "    </g>\n",
              "</svg>\n",
              "  </button>\n",
              "\n",
              "<style>\n",
              "  .colab-df-quickchart {\n",
              "      --bg-color: #E8F0FE;\n",
              "      --fill-color: #1967D2;\n",
              "      --hover-bg-color: #E2EBFA;\n",
              "      --hover-fill-color: #174EA6;\n",
              "      --disabled-fill-color: #AAA;\n",
              "      --disabled-bg-color: #DDD;\n",
              "  }\n",
              "\n",
              "  [theme=dark] .colab-df-quickchart {\n",
              "      --bg-color: #3B4455;\n",
              "      --fill-color: #D2E3FC;\n",
              "      --hover-bg-color: #434B5C;\n",
              "      --hover-fill-color: #FFFFFF;\n",
              "      --disabled-bg-color: #3B4455;\n",
              "      --disabled-fill-color: #666;\n",
              "  }\n",
              "\n",
              "  .colab-df-quickchart {\n",
              "    background-color: var(--bg-color);\n",
              "    border: none;\n",
              "    border-radius: 50%;\n",
              "    cursor: pointer;\n",
              "    display: none;\n",
              "    fill: var(--fill-color);\n",
              "    height: 32px;\n",
              "    padding: 0;\n",
              "    width: 32px;\n",
              "  }\n",
              "\n",
              "  .colab-df-quickchart:hover {\n",
              "    background-color: var(--hover-bg-color);\n",
              "    box-shadow: 0 1px 2px rgba(60, 64, 67, 0.3), 0 1px 3px 1px rgba(60, 64, 67, 0.15);\n",
              "    fill: var(--button-hover-fill-color);\n",
              "  }\n",
              "\n",
              "  .colab-df-quickchart-complete:disabled,\n",
              "  .colab-df-quickchart-complete:disabled:hover {\n",
              "    background-color: var(--disabled-bg-color);\n",
              "    fill: var(--disabled-fill-color);\n",
              "    box-shadow: none;\n",
              "  }\n",
              "\n",
              "  .colab-df-spinner {\n",
              "    border: 2px solid var(--fill-color);\n",
              "    border-color: transparent;\n",
              "    border-bottom-color: var(--fill-color);\n",
              "    animation:\n",
              "      spin 1s steps(1) infinite;\n",
              "  }\n",
              "\n",
              "  @keyframes spin {\n",
              "    0% {\n",
              "      border-color: transparent;\n",
              "      border-bottom-color: var(--fill-color);\n",
              "      border-left-color: var(--fill-color);\n",
              "    }\n",
              "    20% {\n",
              "      border-color: transparent;\n",
              "      border-left-color: var(--fill-color);\n",
              "      border-top-color: var(--fill-color);\n",
              "    }\n",
              "    30% {\n",
              "      border-color: transparent;\n",
              "      border-left-color: var(--fill-color);\n",
              "      border-top-color: var(--fill-color);\n",
              "      border-right-color: var(--fill-color);\n",
              "    }\n",
              "    40% {\n",
              "      border-color: transparent;\n",
              "      border-right-color: var(--fill-color);\n",
              "      border-top-color: var(--fill-color);\n",
              "    }\n",
              "    60% {\n",
              "      border-color: transparent;\n",
              "      border-right-color: var(--fill-color);\n",
              "    }\n",
              "    80% {\n",
              "      border-color: transparent;\n",
              "      border-right-color: var(--fill-color);\n",
              "      border-bottom-color: var(--fill-color);\n",
              "    }\n",
              "    90% {\n",
              "      border-color: transparent;\n",
              "      border-bottom-color: var(--fill-color);\n",
              "    }\n",
              "  }\n",
              "</style>\n",
              "\n",
              "  <script>\n",
              "    async function quickchart(key) {\n",
              "      const quickchartButtonEl =\n",
              "        document.querySelector('#' + key + ' button');\n",
              "      quickchartButtonEl.disabled = true;  // To prevent multiple clicks.\n",
              "      quickchartButtonEl.classList.add('colab-df-spinner');\n",
              "      try {\n",
              "        const charts = await google.colab.kernel.invokeFunction(\n",
              "            'suggestCharts', [key], {});\n",
              "      } catch (error) {\n",
              "        console.error('Error during call to suggestCharts:', error);\n",
              "      }\n",
              "      quickchartButtonEl.classList.remove('colab-df-spinner');\n",
              "      quickchartButtonEl.classList.add('colab-df-quickchart-complete');\n",
              "    }\n",
              "    (() => {\n",
              "      let quickchartButtonEl =\n",
              "        document.querySelector('#df-c3eafe98-4497-4e85-b8ae-1285f19f59d7 button');\n",
              "      quickchartButtonEl.style.display =\n",
              "        google.colab.kernel.accessAllowed ? 'block' : 'none';\n",
              "    })();\n",
              "  </script>\n",
              "</div>\n",
              "\n",
              "    </div>\n",
              "  </div>\n"
            ],
            "application/vnd.google.colaboratory.intrinsic+json": {
              "type": "dataframe",
              "variable_name": "df",
              "summary": "{\n  \"name\": \"df\",\n  \"rows\": 650,\n  \"fields\": [\n    {\n      \"column\": \"Data_Desligamento\",\n      \"properties\": {\n        \"dtype\": \"date\",\n        \"min\": \"2024-05-14 00:00:00\",\n        \"max\": \"2024-05-14 00:00:00\",\n        \"num_unique_values\": 1,\n        \"samples\": [\n          \"2024-05-14 00:00:00\"\n        ],\n        \"semantic_type\": \"\",\n        \"description\": \"\"\n      }\n    },\n    {\n      \"column\": \"Meses_de_Servico\",\n      \"properties\": {\n        \"dtype\": \"number\",\n        \"std\": 9,\n        \"min\": 3,\n        \"max\": 35,\n        \"num_unique_values\": 33,\n        \"samples\": [\n          29\n        ],\n        \"semantic_type\": \"\",\n        \"description\": \"\"\n      }\n    },\n    {\n      \"column\": \"Idade\",\n      \"properties\": {\n        \"dtype\": \"number\",\n        \"std\": 8,\n        \"min\": 18,\n        \"max\": 49,\n        \"num_unique_values\": 32,\n        \"samples\": [\n          46\n        ],\n        \"semantic_type\": \"\",\n        \"description\": \"\"\n      }\n    },\n    {\n      \"column\": \"Pontuacao_Desempenho\",\n      \"properties\": {\n        \"dtype\": \"number\",\n        \"std\": 1.1742257663024125,\n        \"min\": 1.00024227440041,\n        \"max\": 4.992101944794591,\n        \"num_unique_values\": 650,\n        \"samples\": [\n          1.776232354587129\n        ],\n        \"semantic_type\": \"\",\n        \"description\": \"\"\n      }\n    },\n    {\n      \"column\": \"Satisfacao_Trabalho\",\n      \"properties\": {\n        \"dtype\": \"number\",\n        \"std\": 1.1485135122207797,\n        \"min\": 1.002867838334448,\n        \"max\": 4.999415312180092,\n        \"num_unique_values\": 650,\n        \"samples\": [\n          2.278370365525132\n        ],\n        \"semantic_type\": \"\",\n        \"description\": \"\"\n      }\n    },\n    {\n      \"column\": \"Nivel_Cargo\",\n      \"properties\": {\n        \"dtype\": \"category\",\n        \"num_unique_values\": 3,\n        \"samples\": [\n          \"Pleno\"\n        ],\n        \"semantic_type\": \"\",\n        \"description\": \"\"\n      }\n    },\n    {\n      \"column\": \"Salario\",\n      \"properties\": {\n        \"dtype\": \"number\",\n        \"std\": 2689.0755663526515,\n        \"min\": 2004.5,\n        \"max\": 11957.29,\n        \"num_unique_values\": 650,\n        \"samples\": [\n          4198.6\n        ],\n        \"semantic_type\": \"\",\n        \"description\": \"\"\n      }\n    },\n    {\n      \"column\": \"Horas_Extras\",\n      \"properties\": {\n        \"dtype\": \"number\",\n        \"std\": 6.2424059169434845,\n        \"min\": 0.00373427865018261,\n        \"max\": 41.63835000353,\n        \"num_unique_values\": 540,\n        \"samples\": [\n          14.0483468050593\n        ],\n        \"semantic_type\": \"\",\n        \"description\": \"\"\n      }\n    },\n    {\n      \"column\": \"Desligado\",\n      \"properties\": {\n        \"dtype\": \"number\",\n        \"std\": 0,\n        \"min\": 0,\n        \"max\": 1,\n        \"num_unique_values\": 2,\n        \"samples\": [\n          1\n        ],\n        \"semantic_type\": \"\",\n        \"description\": \"\"\n      }\n    }\n  ]\n}"
            }
          },
          "metadata": {},
          "execution_count": 61
        }
      ]
    },
    {
      "cell_type": "code",
      "source": [
        "# Estadísticas iniciales\n",
        "media_idade = df['Idade'].mean()\n",
        "media_salario= df['Salario'].mean()\n",
        "print('a idade media e: {:.0f} anos '.format(media_idade))\n",
        "print('a media salarial e de: R${:.2f}'.format(media_salario))"
      ],
      "metadata": {
        "colab": {
          "base_uri": "https://localhost:8080/"
        },
        "id": "wWQVhWcnPVVf",
        "outputId": "848f89df-8e54-450d-8a57-c7abf51b6e2d"
      },
      "execution_count": 62,
      "outputs": [
        {
          "output_type": "stream",
          "name": "stdout",
          "text": [
            "a idade media e: 28 anos \n",
            "a media salarial e de: R$6131.59\n"
          ]
        }
      ]
    },
    {
      "cell_type": "code",
      "source": [
        "\n",
        "meses_serviço= df['Meses_de_Servico'].max()\n",
        "print('o max de meses de serviço registrado e de:',meses_serviço)\n",
        "meses_serviço= df['Meses_de_Servico'].mean()\n",
        "print('a media de meses_serviço geral e de: {:.2f}'.format(meses_serviço))"
      ],
      "metadata": {
        "colab": {
          "base_uri": "https://localhost:8080/"
        },
        "id": "iehMzQE4PZ43",
        "outputId": "354085d5-7c31-483f-de71-95ff03be1d42"
      },
      "execution_count": 63,
      "outputs": [
        {
          "output_type": "stream",
          "name": "stdout",
          "text": [
            "o max de meses de serviço registrado e de: 35\n",
            "a media de meses_serviço geral e de: 18.69\n"
          ]
        }
      ]
    },
    {
      "cell_type": "code",
      "source": [
        "# Visualizaciones\n",
        "plt.figure(figsize=(10, 6))\n",
        "sns.histplot(df['Idade'], kde=True)\n",
        "plt.title('Distribución de la Edad')\n",
        "plt.show()"
      ],
      "metadata": {
        "colab": {
          "base_uri": "https://localhost:8080/",
          "height": 564
        },
        "id": "eAfV5Y_3PcIN",
        "outputId": "b60c0ac0-ec4f-457c-d4c5-bb9afba42772"
      },
      "execution_count": 64,
      "outputs": [
        {
          "output_type": "display_data",
          "data": {
            "text/plain": [
              "<Figure size 1000x600 with 1 Axes>"
            ],
            "image/png": "[encoded data removed]"
          },
          "metadata": {}
        }
      ]
    },
    {
      "cell_type": "code",
      "source": [
        "plt.figure(figsize=(10, 6))\n",
        "sns.boxplot(x='Desligado', y='Satisfacao_Trabalho', data=df)\n",
        "plt.title('Satisfacción en el Trabajo vs Desligado')\n",
        "plt.show()"
      ],
      "metadata": {
        "colab": {
          "base_uri": "https://localhost:8080/",
          "height": 565
        },
        "id": "dSREXgLgPh4z",
        "outputId": "81c2beb6-7661-4a83-d9f8-9498ff11cc7e"
      },
      "execution_count": 65,
      "outputs": [
        {
          "output_type": "display_data",
          "data": {
            "text/plain": [
              "<Figure size 1000x600 with 1 Axes>"
            ],
            "image/png": "[encoded data removed]"
          },
          "metadata": {}
        }
      ]
    },
    {
      "cell_type": "code",
      "source": [
        "\n",
        "# Rango de idade más común y quantidade de demitidos\n",
        "rango_idade_comun = df['Idade'].mode()[0]\n",
        "quantidade_demitidos = df[df['Idade'] == rango_idade_comun].shape[0]\n",
        "print(f\"Rango de idade más común: {rango_idade_comun}\")\n",
        "print(f\"Quantidade de demitidos no rango: {quantidade_demitidos}\")"
      ],
      "metadata": {
        "colab": {
          "base_uri": "https://localhost:8080/"
        },
        "id": "ueRPhJG5Pm7P",
        "outputId": "9a6e3c08-c197-4ca1-c3de-b5c44c7371cf"
      },
      "execution_count": 66,
      "outputs": [
        {
          "output_type": "stream",
          "name": "stdout",
          "text": [
            "Rango de idade más común: 24\n",
            "Quantidade de demitidos no rango: 50\n"
          ]
        }
      ]
    },
    {
      "cell_type": "code",
      "source": [
        "# Selección de características y variable objetivo\n",
        "X = df.drop(columns=['Desligado'])\n",
        "y = df['Desligado']\n"
      ],
      "metadata": {
        "id": "-6-c4XcoPrTp"
      },
      "execution_count": 67,
      "outputs": []
    },
    {
      "cell_type": "code",
      "source": [
        "# Verificar los tipos de datos en X\n",
        "print(X.dtypes)\n",
        "\n",
        "# Eliminar columnas de tipo datetime si existen\n",
        "X = X.select_dtypes(exclude=['datetime64[ns]'])"
      ],
      "metadata": {
        "colab": {
          "base_uri": "https://localhost:8080/"
        },
        "id": "UPVHTcLrTeqw",
        "outputId": "038a266b-d5ef-43db-fa8e-191d32cdba94"
      },
      "execution_count": 70,
      "outputs": [
        {
          "output_type": "stream",
          "name": "stdout",
          "text": [
            "Data_Desligamento       datetime64[ns]\n",
            "Meses_de_Servico                 int64\n",
            "Idade                            int64\n",
            "Pontuacao_Desempenho           float64\n",
            "Satisfacao_Trabalho            float64\n",
            "Salario                        float64\n",
            "Horas_Extras                   float64\n",
            "Nivel_Cargo_Pleno                 bool\n",
            "Nivel_Cargo_Sênior                bool\n",
            "dtype: object\n"
          ]
        }
      ]
    },
    {
      "cell_type": "code",
      "source": [
        "# Codificar variables categóricas\n",
        "X = pd.get_dummies(X, drop_first=True)"
      ],
      "metadata": {
        "id": "CaPynxtBPxyy"
      },
      "execution_count": 71,
      "outputs": []
    },
    {
      "cell_type": "code",
      "source": [
        "# Dividir el conjunto de datos en entrenamiento y prueba\n",
        "X_train, X_test, y_train, y_test = train_test_split(X, y, test_size=0.3, random_state=42)\n",
        "\n",
        "# Escalar los datos\n",
        "scaler = StandardScaler()\n",
        "X_train = scaler.fit_transform(X_train)\n",
        "X_test = scaler.transform(X_test)"
      ],
      "metadata": {
        "id": "wXIDvCefP3Y8"
      },
      "execution_count": 72,
      "outputs": []
    },
    {
      "cell_type": "code",
      "source": [
        "from sklearn.tree import DecisionTreeClassifier\n",
        "\n",
        "# Entrenamiento del modelo Decision Tree\n",
        "model = DecisionTreeClassifier(random_state=42)\n",
        "model.fit(X_train, y_train)\n"
      ],
      "metadata": {
        "colab": {
          "base_uri": "https://localhost:8080/",
          "height": 75
        },
        "id": "jWv-sdHyP5_k",
        "outputId": "fb41a4be-73eb-4888-9682-628bc9e209a0"
      },
      "execution_count": 73,
      "outputs": [
        {
          "output_type": "execute_result",
          "data": {
            "text/plain": [
              "DecisionTreeClassifier(random_state=42)"
            ],
            "text/html": [
              "<style>#sk-container-id-2 {color: black;background-color: white;}#sk-container-id-2 pre{padding: 0;}#sk-container-id-2 div.sk-toggleable {background-color: white;}#sk-container-id-2 label.sk-toggleable__label {cursor: pointer;display: block;width: 100%;margin-bottom: 0;padding: 0.3em;box-sizing: border-box;text-align: center;}#sk-container-id-2 label.sk-toggleable__label-arrow:before {content: \"▸\";float: left;margin-right: 0.25em;color: #696969;}#sk-container-id-2 label.sk-toggleable__label-arrow:hover:before {color: black;}#sk-container-id-2 div.sk-estimator:hover label.sk-toggleable__label-arrow:before {color: black;}#sk-container-id-2 div.sk-toggleable__content {max-height: 0;max-width: 0;overflow: hidden;text-align: left;background-color: #f0f8ff;}#sk-container-id-2 div.sk-toggleable__content pre {margin: 0.2em;color: black;border-radius: 0.25em;background-color: #f0f8ff;}#sk-container-id-2 input.sk-toggleable__control:checked~div.sk-toggleable__content {max-height: 200px;max-width: 100%;overflow: auto;}#sk-container-id-2 input.sk-toggleable__control:checked~label.sk-toggleable__label-arrow:before {content: \"▾\";}#sk-container-id-2 div.sk-estimator input.sk-toggleable__control:checked~label.sk-toggleable__label {background-color: #d4ebff;}#sk-container-id-2 div.sk-label input.sk-toggleable__control:checked~label.sk-toggleable__label {background-color: #d4ebff;}#sk-container-id-2 input.sk-hidden--visually {border: 0;clip: rect(1px 1px 1px 1px);clip: rect(1px, 1px, 1px, 1px);height: 1px;margin: -1px;overflow: hidden;padding: 0;position: absolute;width: 1px;}#sk-container-id-2 div.sk-estimator {font-family: monospace;background-color: #f0f8ff;border: 1px dotted black;border-radius: 0.25em;box-sizing: border-box;margin-bottom: 0.5em;}#sk-container-id-2 div.sk-estimator:hover {background-color: #d4ebff;}#sk-container-id-2 div.sk-parallel-item::after {content: \"\";width: 100%;border-bottom: 1px solid gray;flex-grow: 1;}#sk-container-id-2 div.sk-label:hover label.sk-toggleable__label {background-color: #d4ebff;}#sk-container-id-2 div.sk-serial::before {content: \"\";position: absolute;border-left: 1px solid gray;box-sizing: border-box;top: 0;bottom: 0;left: 50%;z-index: 0;}#sk-container-id-2 div.sk-serial {display: flex;flex-direction: column;align-items: center;background-color: white;padding-right: 0.2em;padding-left: 0.2em;position: relative;}#sk-container-id-2 div.sk-item {position: relative;z-index: 1;}#sk-container-id-2 div.sk-parallel {display: flex;align-items: stretch;justify-content: center;background-color: white;position: relative;}#sk-container-id-2 div.sk-item::before, #sk-container-id-2 div.sk-parallel-item::before {content: \"\";position: absolute;border-left: 1px solid gray;box-sizing: border-box;top: 0;bottom: 0;left: 50%;z-index: -1;}#sk-container-id-2 div.sk-parallel-item {display: flex;flex-direction: column;z-index: 1;position: relative;background-color: white;}#sk-container-id-2 div.sk-parallel-item:first-child::after {align-self: flex-end;width: 50%;}#sk-container-id-2 div.sk-parallel-item:last-child::after {align-self: flex-start;width: 50%;}#sk-container-id-2 div.sk-parallel-item:only-child::after {width: 0;}#sk-container-id-2 div.sk-dashed-wrapped {border: 1px dashed gray;margin: 0 0.4em 0.5em 0.4em;box-sizing: border-box;padding-bottom: 0.4em;background-color: white;}#sk-container-id-2 div.sk-label label {font-family: monospace;font-weight: bold;display: inline-block;line-height: 1.2em;}#sk-container-id-2 div.sk-label-container {text-align: center;}#sk-container-id-2 div.sk-container {/* jupyter's `normalize.less` sets `[hidden] { display: none; }` but bootstrap.min.css set `[hidden] { display: none !important; }` so we also need the `!important` here to be able to override the default hidden behavior on the sphinx rendered scikit-learn.org. See: https://github.com/scikit-learn/scikit-learn/issues/21755 */display: inline-block !important;position: relative;}#sk-container-id-2 div.sk-text-repr-fallback {display: none;}</style><div id=\"sk-container-id-2\" class=\"sk-top-container\"><div class=\"sk-text-repr-fallback\"><pre>DecisionTreeClassifier(random_state=42)</pre><b>In a Jupyter environment, please rerun this cell to show the HTML representation or trust the notebook. <br />On GitHub, the HTML representation is unable to render, please try loading this page with nbviewer.org.</b></div><div class=\"sk-container\" hidden><div class=\"sk-item\"><div class=\"sk-estimator sk-toggleable\"><input class=\"sk-toggleable__control sk-hidden--visually\" id=\"sk-estimator-id-2\" type=\"checkbox\" checked><label for=\"sk-estimator-id-2\" class=\"sk-toggleable__label sk-toggleable__label-arrow\">DecisionTreeClassifier</label><div class=\"sk-toggleable__content\"><pre>DecisionTreeClassifier(random_state=42)</pre></div></div></div></div></div>"
            ]
          },
          "metadata": {},
          "execution_count": 73
        }
      ]
    },
    {
      "cell_type": "code",
      "source": [
        "# Predicciones\n",
        "y_pred = model.predict(X_test)\n",
        "\n",
        "# Evaluar el modelo\n",
        "print('Accuracy:', accuracy_score(y_test, y_pred))\n",
        "print('Confusion Matrix:\\n', confusion_matrix(y_test, y_pred))\n",
        "print('Classification Report:\\n', classification_report(y_test, y_pred))\n",
        "\n",
        "# Importancia de las características\n",
        "importances = model.feature_importances_\n",
        "feature_names = X.columns\n",
        "feature_importance_df = pd.DataFrame({'feature': feature_names, 'importance': importances}).sort_values(by='importance', ascending=False)\n",
        "\n",
        "# Visualizar la importancia de las características\n",
        "plt.figure(figsize=(12, 8))\n",
        "sns.barplot(x='importance', y='feature', data=feature_importance_df)\n",
        "plt.title('Importancia de las Características - Decision Tree')\n",
        "plt.show()\n"
      ],
      "metadata": {
        "colab": {
          "base_uri": "https://localhost:8080/",
          "height": 962
        },
        "id": "aFcxIAGbP9D7",
        "outputId": "4dcfc13d-91d4-4778-84a2-dcac97cf8dbf"
      },
      "execution_count": 74,
      "outputs": [
        {
          "output_type": "stream",
          "name": "stdout",
          "text": [
            "Accuracy: 0.7025641025641025\n",
            "Confusion Matrix:\n",
            " [[124  28]\n",
            " [ 30  13]]\n",
            "Classification Report:\n",
            "               precision    recall  f1-score   support\n",
            "\n",
            "           0       0.81      0.82      0.81       152\n",
            "           1       0.32      0.30      0.31        43\n",
            "\n",
            "    accuracy                           0.70       195\n",
            "   macro avg       0.56      0.56      0.56       195\n",
            "weighted avg       0.70      0.70      0.70       195\n",
            "\n"
          ]
        },
        {
          "output_type": "display_data",
          "data": {
            "text/plain": [
              "<Figure size 1200x800 with 1 Axes>"
            ],
            "image/png": "[encoded data removed]"
          },
          "metadata": {}
        }
      ]
    },
    {
      "cell_type": "code",
      "source": [],
      "metadata": {
        "id": "tHKkpDuVYdMd"
      },
      "execution_count": null,
      "outputs": []
    },
    {
      "cell_type": "markdown",
      "source": [
        "# regresion logistica"
      ],
      "metadata": {
        "id": "GDUr5LOAYdy4"
      }
    },
    {
      "cell_type": "code",
      "source": [
        "from sklearn.linear_model import LogisticRegression\n",
        "from sklearn.metrics import classification_report, confusion_matrix, accuracy_score\n"
      ],
      "metadata": {
        "id": "kOMRg3XWYi2J"
      },
      "execution_count": 75,
      "outputs": []
    },
    {
      "cell_type": "code",
      "source": [
        "# Crear y entrenar el modelo de Regresión Logística\n",
        "logreg_model = LogisticRegression(random_state=42, max_iter=1000)\n",
        "logreg_model.fit(X_train, y_train)\n",
        "\n",
        "# Realizar predicciones\n",
        "y_pred_logreg = logreg_model.predict(X_test)\n",
        "\n",
        "# Evaluar el modelo\n",
        "print('Accuracy:', accuracy_score(y_test, y_pred_logreg))\n",
        "print('Confusion Matrix:\\n', confusion_matrix(y_test, y_pred_logreg))\n",
        "print('Classification Report:\\n', classification_report(y_test, y_pred_logreg))\n",
        "\n",
        "# Importancia de las características\n",
        "importances_logreg = logreg_model.coef_[0]\n",
        "feature_importance_df_logreg = pd.DataFrame({'feature': X.columns, 'importance': importances_logreg}).sort_values(by='importance', ascending=False)\n",
        "\n",
        "# Visualizar la importancia de las características\n",
        "plt.figure(figsize=(10, 6))\n",
        "sns.barplot(x='importance', y='feature', data=feature_importance_df_logreg)\n",
        "plt.title('Importancia de las Características - Regresión Logística')\n",
        "plt.show()\n"
      ],
      "metadata": {
        "colab": {
          "base_uri": "https://localhost:8080/",
          "height": 808
        },
        "id": "v5feZ2DcYmkO",
        "outputId": "7017e58f-f878-4ae1-a856-be8c945c9361"
      },
      "execution_count": 76,
      "outputs": [
        {
          "output_type": "stream",
          "name": "stdout",
          "text": [
            "Accuracy: 0.8051282051282052\n",
            "Confusion Matrix:\n",
            " [[152   0]\n",
            " [ 38   5]]\n",
            "Classification Report:\n",
            "               precision    recall  f1-score   support\n",
            "\n",
            "           0       0.80      1.00      0.89       152\n",
            "           1       1.00      0.12      0.21        43\n",
            "\n",
            "    accuracy                           0.81       195\n",
            "   macro avg       0.90      0.56      0.55       195\n",
            "weighted avg       0.84      0.81      0.74       195\n",
            "\n"
          ]
        },
        {
          "output_type": "display_data",
          "data": {
            "text/plain": [
              "<Figure size 1000x600 with 1 Axes>"
            ],
            "image/png": "[encoded data removed]"
          },
          "metadata": {}
        }
      ]
    },
    {
      "cell_type": "markdown",
      "source": [
        "#Explicarlo al Público:\n",
        "\n",
        "##Propósito del Análisis:\n",
        "\n",
        "\"Este análisis se realizó para identificar las variables más influyentes en la rotación de empleados de nuestra empresa. Utilizamos un modelo de Regresión Logística para cuantificar la importancia de cada variable.\"\n",
        "\n",
        "###Hallazgos Clave:\n",
        "\n",
        "\"El número de horas extras trabajadas por los empleados es la variable más influyente. Esto sugiere que las cargas de trabajo excesivas podrían estar impulsando la rotación.\"\n",
        "\n",
        "\"El desempeño de los empleados también es un factor significativo. Tanto un alto desempeño como un bajo desempeño pueden influir en la decisión de un empleado de dejar la empresa.\"\n",
        "\n",
        "\"El nivel del cargo también importa, especialmente para los empleados séniores, quienes tienen una probabilidad más alta de dejar la empresa.\"\n",
        "\n",
        "\"Aunque la edad, el salario, la satisfacción laboral y el tiempo de servicio tienen menos impacto, siguen siendo factores a considerar.\"\n",
        "Acciones Recomendadas:\n",
        "\n",
        "\"Dado que las horas extras son un factor significativo, podríamos considerar estrategias para reducir las horas extras o compensarlas adecuadamente.\"\n",
        "\"Podemos implementar programas de retención y desarrollo profesional para empleados con alto y bajo desempeño.\"\n",
        "\n",
        "\"Es importante entender las necesidades y expectativas de nuestros empleados séniores para mejorar su retención.\"\n",
        "Conclusión:\n",
        "\n",
        "\"Este análisis nos proporciona una visión clara de los factores que más influyen en la rotación de empleados. Con esta información, podemos diseñar estrategias más efectivas para retener a nuestros empleados y reducir los costos asociados con la rotación.\""
      ],
      "metadata": {
        "id": "yD0V2BSqdbsM"
      }
    }
  ]
}